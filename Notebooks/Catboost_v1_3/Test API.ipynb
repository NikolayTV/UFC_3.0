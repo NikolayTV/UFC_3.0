{
 "cells": [
  {
   "cell_type": "code",
   "execution_count": 1,
   "id": "uniform-steps",
   "metadata": {},
   "outputs": [],
   "source": [
    "import subprocess\n",
    "import shlex\n",
    "import json\n",
    "from glob import glob\n",
    "from tqdm import tqdm_notebook as tqdm\n",
    "import pandas as pd\n",
    "\n",
    "import sys\n",
    "import os\n",
    "sys.path.append(os.path.join(sys.path[0], '../../'))\n",
    "\n",
    "from core.train_utils import calculate_roi, get_winner_favorite\n",
    "from core.events_utils import parse_odds"
   ]
  },
  {
   "cell_type": "code",
   "execution_count": 2,
   "id": "popular-preliminary",
   "metadata": {
    "scrolled": true
   },
   "outputs": [
    {
     "data": {
      "text/html": [
       "<div>\n",
       "<style scoped>\n",
       "    .dataframe tbody tr th:only-of-type {\n",
       "        vertical-align: middle;\n",
       "    }\n",
       "\n",
       "    .dataframe tbody tr th {\n",
       "        vertical-align: top;\n",
       "    }\n",
       "\n",
       "    .dataframe thead th {\n",
       "        text-align: right;\n",
       "    }\n",
       "</style>\n",
       "<table border=\"1\" class=\"dataframe\">\n",
       "  <thead>\n",
       "    <tr style=\"text-align: right;\">\n",
       "      <th></th>\n",
       "      <th>city</th>\n",
       "      <th>country</th>\n",
       "      <th>duration</th>\n",
       "      <th>eventDate.date</th>\n",
       "      <th>eventDate.timezone</th>\n",
       "      <th>fighterId_1</th>\n",
       "      <th>fighterId_2</th>\n",
       "      <th>id</th>\n",
       "      <th>name</th>\n",
       "      <th>rounds</th>\n",
       "      <th>...</th>\n",
       "      <th>odds_difference</th>\n",
       "      <th>age_difference</th>\n",
       "      <th>height_difference</th>\n",
       "      <th>armSpan_difference</th>\n",
       "      <th>legSwing_difference</th>\n",
       "      <th>isHomeCity_difference</th>\n",
       "      <th>isHomeCountry_difference</th>\n",
       "      <th>isHomeTimezone_difference</th>\n",
       "      <th>winner</th>\n",
       "      <th>is_fight_night</th>\n",
       "    </tr>\n",
       "  </thead>\n",
       "  <tbody>\n",
       "    <tr>\n",
       "      <th>6359</th>\n",
       "      <td>Las Vegas</td>\n",
       "      <td>USA</td>\n",
       "      <td>40.0</td>\n",
       "      <td>2020-01-18</td>\n",
       "      <td>Europe/Berlin</td>\n",
       "      <td>347</td>\n",
       "      <td>211</td>\n",
       "      <td>39796</td>\n",
       "      <td>UFC 246</td>\n",
       "      <td>1.0</td>\n",
       "      <td>...</td>\n",
       "      <td>2.32</td>\n",
       "      <td>5.0</td>\n",
       "      <td>10.16</td>\n",
       "      <td>-2.54</td>\n",
       "      <td>1.27</td>\n",
       "      <td>0.0</td>\n",
       "      <td>1.0</td>\n",
       "      <td>0.0</td>\n",
       "      <td>False</td>\n",
       "      <td>False</td>\n",
       "    </tr>\n",
       "    <tr>\n",
       "      <th>6360</th>\n",
       "      <td>Las Vegas</td>\n",
       "      <td>USA</td>\n",
       "      <td>106.0</td>\n",
       "      <td>2020-01-18</td>\n",
       "      <td>Europe/Berlin</td>\n",
       "      <td>404</td>\n",
       "      <td>292</td>\n",
       "      <td>39804</td>\n",
       "      <td>UFC 246</td>\n",
       "      <td>2.0</td>\n",
       "      <td>...</td>\n",
       "      <td>-1.47</td>\n",
       "      <td>3.0</td>\n",
       "      <td>-2.54</td>\n",
       "      <td>5.08</td>\n",
       "      <td>0.00</td>\n",
       "      <td>0.0</td>\n",
       "      <td>-1.0</td>\n",
       "      <td>0.0</td>\n",
       "      <td>True</td>\n",
       "      <td>False</td>\n",
       "    </tr>\n",
       "    <tr>\n",
       "      <th>6361</th>\n",
       "      <td>Las Vegas</td>\n",
       "      <td>USA</td>\n",
       "      <td>300.0</td>\n",
       "      <td>2020-01-18</td>\n",
       "      <td>Europe/Berlin</td>\n",
       "      <td>427</td>\n",
       "      <td>562</td>\n",
       "      <td>39805</td>\n",
       "      <td>UFC 246</td>\n",
       "      <td>3.0</td>\n",
       "      <td>...</td>\n",
       "      <td>-0.39</td>\n",
       "      <td>7.0</td>\n",
       "      <td>2.54</td>\n",
       "      <td>5.08</td>\n",
       "      <td>2.54</td>\n",
       "      <td>0.0</td>\n",
       "      <td>0.0</td>\n",
       "      <td>0.0</td>\n",
       "      <td>True</td>\n",
       "      <td>False</td>\n",
       "    </tr>\n",
       "    <tr>\n",
       "      <th>6362</th>\n",
       "      <td>Las Vegas</td>\n",
       "      <td>USA</td>\n",
       "      <td>300.0</td>\n",
       "      <td>2020-01-18</td>\n",
       "      <td>Europe/Berlin</td>\n",
       "      <td>407</td>\n",
       "      <td>521</td>\n",
       "      <td>39807</td>\n",
       "      <td>UFC 246</td>\n",
       "      <td>3.0</td>\n",
       "      <td>...</td>\n",
       "      <td>0.47</td>\n",
       "      <td>3.0</td>\n",
       "      <td>5.08</td>\n",
       "      <td>7.62</td>\n",
       "      <td>-0.10</td>\n",
       "      <td>0.0</td>\n",
       "      <td>1.0</td>\n",
       "      <td>0.0</td>\n",
       "      <td>False</td>\n",
       "      <td>False</td>\n",
       "    </tr>\n",
       "    <tr>\n",
       "      <th>6363</th>\n",
       "      <td>Las Vegas</td>\n",
       "      <td>USA</td>\n",
       "      <td>300.0</td>\n",
       "      <td>2020-01-18</td>\n",
       "      <td>Europe/Berlin</td>\n",
       "      <td>525</td>\n",
       "      <td>233</td>\n",
       "      <td>39820</td>\n",
       "      <td>UFC 246</td>\n",
       "      <td>3.0</td>\n",
       "      <td>...</td>\n",
       "      <td>-5.68</td>\n",
       "      <td>-16.0</td>\n",
       "      <td>-5.08</td>\n",
       "      <td>-10.16</td>\n",
       "      <td>5.18</td>\n",
       "      <td>0.0</td>\n",
       "      <td>0.0</td>\n",
       "      <td>0.0</td>\n",
       "      <td>False</td>\n",
       "      <td>False</td>\n",
       "    </tr>\n",
       "    <tr>\n",
       "      <th>...</th>\n",
       "      <td>...</td>\n",
       "      <td>...</td>\n",
       "      <td>...</td>\n",
       "      <td>...</td>\n",
       "      <td>...</td>\n",
       "      <td>...</td>\n",
       "      <td>...</td>\n",
       "      <td>...</td>\n",
       "      <td>...</td>\n",
       "      <td>...</td>\n",
       "      <td>...</td>\n",
       "      <td>...</td>\n",
       "      <td>...</td>\n",
       "      <td>...</td>\n",
       "      <td>...</td>\n",
       "      <td>...</td>\n",
       "      <td>...</td>\n",
       "      <td>...</td>\n",
       "      <td>...</td>\n",
       "      <td>...</td>\n",
       "      <td>...</td>\n",
       "    </tr>\n",
       "    <tr>\n",
       "      <th>6792</th>\n",
       "      <td>Las Vegas</td>\n",
       "      <td>USA</td>\n",
       "      <td>300.0</td>\n",
       "      <td>2020-12-19</td>\n",
       "      <td>Europe/Berlin</td>\n",
       "      <td>286</td>\n",
       "      <td>3419</td>\n",
       "      <td>40352</td>\n",
       "      <td>UFC Fight Night</td>\n",
       "      <td>3.0</td>\n",
       "      <td>...</td>\n",
       "      <td>-0.23</td>\n",
       "      <td>1.0</td>\n",
       "      <td>2.54</td>\n",
       "      <td>2.54</td>\n",
       "      <td>0.00</td>\n",
       "      <td>0.0</td>\n",
       "      <td>0.0</td>\n",
       "      <td>0.0</td>\n",
       "      <td>True</td>\n",
       "      <td>True</td>\n",
       "    </tr>\n",
       "    <tr>\n",
       "      <th>6793</th>\n",
       "      <td>Las Vegas</td>\n",
       "      <td>USA</td>\n",
       "      <td>300.0</td>\n",
       "      <td>2020-12-19</td>\n",
       "      <td>Europe/Berlin</td>\n",
       "      <td>1995</td>\n",
       "      <td>653</td>\n",
       "      <td>40354</td>\n",
       "      <td>UFC Fight Night</td>\n",
       "      <td>3.0</td>\n",
       "      <td>...</td>\n",
       "      <td>-0.80</td>\n",
       "      <td>0.0</td>\n",
       "      <td>22.86</td>\n",
       "      <td>7.62</td>\n",
       "      <td>0.00</td>\n",
       "      <td>0.0</td>\n",
       "      <td>-1.0</td>\n",
       "      <td>0.0</td>\n",
       "      <td>False</td>\n",
       "      <td>True</td>\n",
       "    </tr>\n",
       "    <tr>\n",
       "      <th>6794</th>\n",
       "      <td>Las Vegas</td>\n",
       "      <td>USA</td>\n",
       "      <td>300.0</td>\n",
       "      <td>2020-12-19</td>\n",
       "      <td>Europe/Berlin</td>\n",
       "      <td>667</td>\n",
       "      <td>161</td>\n",
       "      <td>40356</td>\n",
       "      <td>UFC Fight Night</td>\n",
       "      <td>3.0</td>\n",
       "      <td>...</td>\n",
       "      <td>-0.72</td>\n",
       "      <td>6.0</td>\n",
       "      <td>-7.62</td>\n",
       "      <td>2.54</td>\n",
       "      <td>0.00</td>\n",
       "      <td>0.0</td>\n",
       "      <td>1.0</td>\n",
       "      <td>0.0</td>\n",
       "      <td>False</td>\n",
       "      <td>True</td>\n",
       "    </tr>\n",
       "    <tr>\n",
       "      <th>6796</th>\n",
       "      <td>Las Vegas</td>\n",
       "      <td>USA</td>\n",
       "      <td>300.0</td>\n",
       "      <td>2020-12-19</td>\n",
       "      <td>Europe/Berlin</td>\n",
       "      <td>292</td>\n",
       "      <td>244</td>\n",
       "      <td>40383</td>\n",
       "      <td>UFC Fight Night</td>\n",
       "      <td>3.0</td>\n",
       "      <td>...</td>\n",
       "      <td>-1.45</td>\n",
       "      <td>3.0</td>\n",
       "      <td>-2.54</td>\n",
       "      <td>0.00</td>\n",
       "      <td>2.54</td>\n",
       "      <td>0.0</td>\n",
       "      <td>0.0</td>\n",
       "      <td>0.0</td>\n",
       "      <td>True</td>\n",
       "      <td>True</td>\n",
       "    </tr>\n",
       "    <tr>\n",
       "      <th>6797</th>\n",
       "      <td>Las Vegas</td>\n",
       "      <td>USA</td>\n",
       "      <td>300.0</td>\n",
       "      <td>2020-12-19</td>\n",
       "      <td>Europe/Berlin</td>\n",
       "      <td>645</td>\n",
       "      <td>633</td>\n",
       "      <td>40387</td>\n",
       "      <td>UFC Fight Night</td>\n",
       "      <td>3.0</td>\n",
       "      <td>...</td>\n",
       "      <td>0.01</td>\n",
       "      <td>-2.0</td>\n",
       "      <td>0.00</td>\n",
       "      <td>-12.70</td>\n",
       "      <td>-11.53</td>\n",
       "      <td>0.0</td>\n",
       "      <td>0.0</td>\n",
       "      <td>0.0</td>\n",
       "      <td>False</td>\n",
       "      <td>True</td>\n",
       "    </tr>\n",
       "  </tbody>\n",
       "</table>\n",
       "<p>331 rows × 214 columns</p>\n",
       "</div>"
      ],
      "text/plain": [
       "           city country  duration eventDate.date eventDate.timezone  \\\n",
       "6359  Las Vegas     USA      40.0     2020-01-18      Europe/Berlin   \n",
       "6360  Las Vegas     USA     106.0     2020-01-18      Europe/Berlin   \n",
       "6361  Las Vegas     USA     300.0     2020-01-18      Europe/Berlin   \n",
       "6362  Las Vegas     USA     300.0     2020-01-18      Europe/Berlin   \n",
       "6363  Las Vegas     USA     300.0     2020-01-18      Europe/Berlin   \n",
       "...         ...     ...       ...            ...                ...   \n",
       "6792  Las Vegas     USA     300.0     2020-12-19      Europe/Berlin   \n",
       "6793  Las Vegas     USA     300.0     2020-12-19      Europe/Berlin   \n",
       "6794  Las Vegas     USA     300.0     2020-12-19      Europe/Berlin   \n",
       "6796  Las Vegas     USA     300.0     2020-12-19      Europe/Berlin   \n",
       "6797  Las Vegas     USA     300.0     2020-12-19      Europe/Berlin   \n",
       "\n",
       "      fighterId_1  fighterId_2     id             name  rounds  ...  \\\n",
       "6359          347          211  39796          UFC 246     1.0  ...   \n",
       "6360          404          292  39804          UFC 246     2.0  ...   \n",
       "6361          427          562  39805          UFC 246     3.0  ...   \n",
       "6362          407          521  39807          UFC 246     3.0  ...   \n",
       "6363          525          233  39820          UFC 246     3.0  ...   \n",
       "...           ...          ...    ...              ...     ...  ...   \n",
       "6792          286         3419  40352  UFC Fight Night     3.0  ...   \n",
       "6793         1995          653  40354  UFC Fight Night     3.0  ...   \n",
       "6794          667          161  40356  UFC Fight Night     3.0  ...   \n",
       "6796          292          244  40383  UFC Fight Night     3.0  ...   \n",
       "6797          645          633  40387  UFC Fight Night     3.0  ...   \n",
       "\n",
       "     odds_difference age_difference height_difference armSpan_difference  \\\n",
       "6359            2.32            5.0             10.16              -2.54   \n",
       "6360           -1.47            3.0             -2.54               5.08   \n",
       "6361           -0.39            7.0              2.54               5.08   \n",
       "6362            0.47            3.0              5.08               7.62   \n",
       "6363           -5.68          -16.0             -5.08             -10.16   \n",
       "...              ...            ...               ...                ...   \n",
       "6792           -0.23            1.0              2.54               2.54   \n",
       "6793           -0.80            0.0             22.86               7.62   \n",
       "6794           -0.72            6.0             -7.62               2.54   \n",
       "6796           -1.45            3.0             -2.54               0.00   \n",
       "6797            0.01           -2.0              0.00             -12.70   \n",
       "\n",
       "      legSwing_difference isHomeCity_difference isHomeCountry_difference  \\\n",
       "6359                 1.27                   0.0                      1.0   \n",
       "6360                 0.00                   0.0                     -1.0   \n",
       "6361                 2.54                   0.0                      0.0   \n",
       "6362                -0.10                   0.0                      1.0   \n",
       "6363                 5.18                   0.0                      0.0   \n",
       "...                   ...                   ...                      ...   \n",
       "6792                 0.00                   0.0                      0.0   \n",
       "6793                 0.00                   0.0                     -1.0   \n",
       "6794                 0.00                   0.0                      1.0   \n",
       "6796                 2.54                   0.0                      0.0   \n",
       "6797               -11.53                   0.0                      0.0   \n",
       "\n",
       "      isHomeTimezone_difference  winner  is_fight_night  \n",
       "6359                        0.0   False           False  \n",
       "6360                        0.0    True           False  \n",
       "6361                        0.0    True           False  \n",
       "6362                        0.0   False           False  \n",
       "6363                        0.0   False           False  \n",
       "...                         ...     ...             ...  \n",
       "6792                        0.0    True            True  \n",
       "6793                        0.0   False            True  \n",
       "6794                        0.0   False            True  \n",
       "6796                        0.0    True            True  \n",
       "6797                        0.0   False            True  \n",
       "\n",
       "[331 rows x 214 columns]"
      ]
     },
     "execution_count": 2,
     "metadata": {},
     "output_type": "execute_result"
    }
   ],
   "source": [
    "df = pd.read_csv('./data_models/events_joined_total_08.04.2021.csv', index_col=0)\n",
    "cat_cols = ['city', 'country', 'is_fight_night', 'weightCategory.id', \n",
    "              'f1_country', 'f2_country', 'f1_city', 'f2_city']\n",
    "\n",
    "df[cat_cols] = df[cat_cols].fillna('unknown')\n",
    "df = df[(df['f1_count_of_fights'] >= 1) & (df['f2_count_of_fights'] >= 1)]\n",
    "\n",
    "df['eventDate.date'] = pd.to_datetime(df['eventDate.date'])\n",
    "df['weightCategory.id'] = df['weightCategory.id'].astype('object')\n",
    "\n",
    "df  = df[(df['eventDate.date'].dt.year == 2020) &\n",
    "        ((df['type']=='straight'))]\n",
    "df = df[~df['odds_difference'].isna()]\n",
    "\n",
    "df"
   ]
  },
  {
   "cell_type": "code",
   "execution_count": 3,
   "id": "comparative-playing",
   "metadata": {
    "scrolled": true
   },
   "outputs": [
    {
     "data": {
      "text/html": [
       "<div>\n",
       "<style scoped>\n",
       "    .dataframe tbody tr th:only-of-type {\n",
       "        vertical-align: middle;\n",
       "    }\n",
       "\n",
       "    .dataframe tbody tr th {\n",
       "        vertical-align: top;\n",
       "    }\n",
       "\n",
       "    .dataframe thead th {\n",
       "        text-align: right;\n",
       "    }\n",
       "</style>\n",
       "<table border=\"1\" class=\"dataframe\">\n",
       "  <thead>\n",
       "    <tr style=\"text-align: right;\">\n",
       "      <th></th>\n",
       "      <th>index</th>\n",
       "      <th>avgOdds</th>\n",
       "      <th>city</th>\n",
       "      <th>completed</th>\n",
       "      <th>country</th>\n",
       "      <th>duration</th>\n",
       "      <th>eventDate.date</th>\n",
       "      <th>eventDate.timezone</th>\n",
       "      <th>eventDate.timezone_type</th>\n",
       "      <th>fighterId_1</th>\n",
       "      <th>...</th>\n",
       "      <th>link</th>\n",
       "      <th>name</th>\n",
       "      <th>rounds</th>\n",
       "      <th>timezone</th>\n",
       "      <th>weightCategory.id</th>\n",
       "      <th>weightCategory.name</th>\n",
       "      <th>winMethods</th>\n",
       "      <th>winnerId</th>\n",
       "      <th>f1_odds</th>\n",
       "      <th>f2_odds</th>\n",
       "    </tr>\n",
       "  </thead>\n",
       "  <tbody>\n",
       "    <tr>\n",
       "      <th>542</th>\n",
       "      <td>0</td>\n",
       "      <td>[{'fighterId': 2597, 'value': 2.95}, {'fighter...</td>\n",
       "      <td>Abu Dhabi</td>\n",
       "      <td>True</td>\n",
       "      <td>United Arab Emirates</td>\n",
       "      <td>300.0</td>\n",
       "      <td>2021-01-16 00:00:01</td>\n",
       "      <td>Europe/Berlin</td>\n",
       "      <td>3</td>\n",
       "      <td>2597</td>\n",
       "      <td>...</td>\n",
       "      <td>http://www.ufcstats.com/fight-details/3d903bc3...</td>\n",
       "      <td>UFC Fight Night</td>\n",
       "      <td>3.0</td>\n",
       "      <td>Asia/Dubai</td>\n",
       "      <td>4</td>\n",
       "      <td>Полулегкий вес</td>\n",
       "      <td>['DEC']</td>\n",
       "      <td>3418.0</td>\n",
       "      <td>2.95</td>\n",
       "      <td>1.43</td>\n",
       "    </tr>\n",
       "    <tr>\n",
       "      <th>543</th>\n",
       "      <td>0</td>\n",
       "      <td>[{'fighterId': 240, 'value': 1.5}, {'fighterId...</td>\n",
       "      <td>Abu Dhabi</td>\n",
       "      <td>True</td>\n",
       "      <td>United Arab Emirates</td>\n",
       "      <td>300.0</td>\n",
       "      <td>2021-01-16 00:00:02</td>\n",
       "      <td>Europe/Berlin</td>\n",
       "      <td>3</td>\n",
       "      <td>240</td>\n",
       "      <td>...</td>\n",
       "      <td>http://www.ufcstats.com/fight-details/97c80f69...</td>\n",
       "      <td>UFC Fight Night</td>\n",
       "      <td>3.0</td>\n",
       "      <td>Asia/Dubai</td>\n",
       "      <td>12</td>\n",
       "      <td>Женский легчайший вес</td>\n",
       "      <td>['DEC']</td>\n",
       "      <td>3398.0</td>\n",
       "      <td>1.50</td>\n",
       "      <td>2.70</td>\n",
       "    </tr>\n",
       "    <tr>\n",
       "      <th>544</th>\n",
       "      <td>0</td>\n",
       "      <td>[{'fighterId': 141, 'value': 3.37}, {'fighterI...</td>\n",
       "      <td>Abu Dhabi</td>\n",
       "      <td>True</td>\n",
       "      <td>United Arab Emirates</td>\n",
       "      <td>300.0</td>\n",
       "      <td>2021-01-16 00:00:03</td>\n",
       "      <td>Europe/Berlin</td>\n",
       "      <td>3</td>\n",
       "      <td>141</td>\n",
       "      <td>...</td>\n",
       "      <td>http://www.ufcstats.com/fight-details/3fcd53eb...</td>\n",
       "      <td>UFC Fight Night</td>\n",
       "      <td>3.0</td>\n",
       "      <td>Asia/Dubai</td>\n",
       "      <td>6</td>\n",
       "      <td>Полусредний вес</td>\n",
       "      <td>['DEC']</td>\n",
       "      <td>453.0</td>\n",
       "      <td>3.37</td>\n",
       "      <td>1.34</td>\n",
       "    </tr>\n",
       "    <tr>\n",
       "      <th>545</th>\n",
       "      <td>0</td>\n",
       "      <td>[{'fighterId': 2319, 'value': 1.49}, {'fighter...</td>\n",
       "      <td>Abu Dhabi</td>\n",
       "      <td>True</td>\n",
       "      <td>United Arab Emirates</td>\n",
       "      <td>300.0</td>\n",
       "      <td>2021-01-16 00:00:04</td>\n",
       "      <td>Europe/Berlin</td>\n",
       "      <td>3</td>\n",
       "      <td>2319</td>\n",
       "      <td>...</td>\n",
       "      <td>http://www.ufcstats.com/fight-details/0165bd3c...</td>\n",
       "      <td>UFC Fight Night</td>\n",
       "      <td>3.0</td>\n",
       "      <td>Asia/Dubai</td>\n",
       "      <td>9</td>\n",
       "      <td>Тяжелый вес</td>\n",
       "      <td>['DEC']</td>\n",
       "      <td>2319.0</td>\n",
       "      <td>1.49</td>\n",
       "      <td>2.72</td>\n",
       "    </tr>\n",
       "    <tr>\n",
       "      <th>546</th>\n",
       "      <td>0</td>\n",
       "      <td>[{'fighterId': 462, 'value': 1.93}, {'fighterI...</td>\n",
       "      <td>Abu Dhabi</td>\n",
       "      <td>True</td>\n",
       "      <td>United Arab Emirates</td>\n",
       "      <td>300.0</td>\n",
       "      <td>2021-01-16 00:00:05</td>\n",
       "      <td>Europe/Berlin</td>\n",
       "      <td>3</td>\n",
       "      <td>462</td>\n",
       "      <td>...</td>\n",
       "      <td>http://www.ufcstats.com/fight-details/97ad63e6...</td>\n",
       "      <td>UFC Fight Night</td>\n",
       "      <td>3.0</td>\n",
       "      <td>Asia/Dubai</td>\n",
       "      <td>12</td>\n",
       "      <td>Женский легчайший вес</td>\n",
       "      <td>['DEC']</td>\n",
       "      <td>3666.0</td>\n",
       "      <td>1.93</td>\n",
       "      <td>1.93</td>\n",
       "    </tr>\n",
       "    <tr>\n",
       "      <th>...</th>\n",
       "      <td>...</td>\n",
       "      <td>...</td>\n",
       "      <td>...</td>\n",
       "      <td>...</td>\n",
       "      <td>...</td>\n",
       "      <td>...</td>\n",
       "      <td>...</td>\n",
       "      <td>...</td>\n",
       "      <td>...</td>\n",
       "      <td>...</td>\n",
       "      <td>...</td>\n",
       "      <td>...</td>\n",
       "      <td>...</td>\n",
       "      <td>...</td>\n",
       "      <td>...</td>\n",
       "      <td>...</td>\n",
       "      <td>...</td>\n",
       "      <td>...</td>\n",
       "      <td>...</td>\n",
       "      <td>...</td>\n",
       "      <td>...</td>\n",
       "    </tr>\n",
       "    <tr>\n",
       "      <th>659</th>\n",
       "      <td>0</td>\n",
       "      <td>[{'fighterId': 430, 'value': 3}, {'fighterId':...</td>\n",
       "      <td>Las Vegas</td>\n",
       "      <td>True</td>\n",
       "      <td>USA</td>\n",
       "      <td>82.0</td>\n",
       "      <td>2021-04-10 00:00:07</td>\n",
       "      <td>Europe/Berlin</td>\n",
       "      <td>3</td>\n",
       "      <td>430</td>\n",
       "      <td>...</td>\n",
       "      <td>http://www.ufcstats.com/fight-details/99829621...</td>\n",
       "      <td>UFC Fight Night</td>\n",
       "      <td>2.0</td>\n",
       "      <td>America/Los_Angeles</td>\n",
       "      <td>5</td>\n",
       "      <td>Легкий вес</td>\n",
       "      <td>['KO']</td>\n",
       "      <td>3587.0</td>\n",
       "      <td>3.00</td>\n",
       "      <td>1.42</td>\n",
       "    </tr>\n",
       "    <tr>\n",
       "      <th>660</th>\n",
       "      <td>0</td>\n",
       "      <td>[{'fighterId': 288, 'value': 2.22}, {'fighterI...</td>\n",
       "      <td>Las Vegas</td>\n",
       "      <td>True</td>\n",
       "      <td>USA</td>\n",
       "      <td>300.0</td>\n",
       "      <td>2021-04-10 00:00:09</td>\n",
       "      <td>Europe/Berlin</td>\n",
       "      <td>3</td>\n",
       "      <td>288</td>\n",
       "      <td>...</td>\n",
       "      <td>http://www.ufcstats.com/fight-details/ac9a8b73...</td>\n",
       "      <td>UFC Fight Night</td>\n",
       "      <td>3.0</td>\n",
       "      <td>America/Los_Angeles</td>\n",
       "      <td>6</td>\n",
       "      <td>Полусредний вес</td>\n",
       "      <td>['DEC']</td>\n",
       "      <td>3037.0</td>\n",
       "      <td>2.22</td>\n",
       "      <td>1.71</td>\n",
       "    </tr>\n",
       "    <tr>\n",
       "      <th>661</th>\n",
       "      <td>0</td>\n",
       "      <td>[{'fighterId': 552, 'value': 1.74}, {'fighterI...</td>\n",
       "      <td>Las Vegas</td>\n",
       "      <td>True</td>\n",
       "      <td>USA</td>\n",
       "      <td>288.0</td>\n",
       "      <td>2021-04-10 00:00:10</td>\n",
       "      <td>Europe/Berlin</td>\n",
       "      <td>3</td>\n",
       "      <td>552</td>\n",
       "      <td>...</td>\n",
       "      <td>http://www.ufcstats.com/fight-details/0992795f...</td>\n",
       "      <td>UFC Fight Night</td>\n",
       "      <td>1.0</td>\n",
       "      <td>America/Los_Angeles</td>\n",
       "      <td>10</td>\n",
       "      <td>Женский минимальный вес</td>\n",
       "      <td>['SUB']</td>\n",
       "      <td>600.0</td>\n",
       "      <td>1.74</td>\n",
       "      <td>2.17</td>\n",
       "    </tr>\n",
       "    <tr>\n",
       "      <th>662</th>\n",
       "      <td>0</td>\n",
       "      <td>[{'fighterId': 215, 'value': 1.54}, {'fighterI...</td>\n",
       "      <td>Las Vegas</td>\n",
       "      <td>True</td>\n",
       "      <td>USA</td>\n",
       "      <td>127.0</td>\n",
       "      <td>2021-04-10 00:00:11</td>\n",
       "      <td>Europe/Berlin</td>\n",
       "      <td>3</td>\n",
       "      <td>215</td>\n",
       "      <td>...</td>\n",
       "      <td>http://www.ufcstats.com/fight-details/646eeca9...</td>\n",
       "      <td>UFC Fight Night</td>\n",
       "      <td>2.0</td>\n",
       "      <td>America/Los_Angeles</td>\n",
       "      <td>7</td>\n",
       "      <td>Средний вес</td>\n",
       "      <td>['SUB']</td>\n",
       "      <td>215.0</td>\n",
       "      <td>1.54</td>\n",
       "      <td>2.58</td>\n",
       "    </tr>\n",
       "    <tr>\n",
       "      <th>663</th>\n",
       "      <td>0</td>\n",
       "      <td>[{'fighterId': 17, 'value': 2.25}, {'fighterId...</td>\n",
       "      <td>Las Vegas</td>\n",
       "      <td>True</td>\n",
       "      <td>USA</td>\n",
       "      <td>300.0</td>\n",
       "      <td>2021-04-10 00:00:12</td>\n",
       "      <td>Europe/Berlin</td>\n",
       "      <td>3</td>\n",
       "      <td>17</td>\n",
       "      <td>...</td>\n",
       "      <td>http://www.ufcstats.com/fight-details/71b81d81...</td>\n",
       "      <td>UFC Fight Night</td>\n",
       "      <td>3.0</td>\n",
       "      <td>America/Los_Angeles</td>\n",
       "      <td>4</td>\n",
       "      <td>Полулегкий вес</td>\n",
       "      <td>['DEC']</td>\n",
       "      <td>17.0</td>\n",
       "      <td>2.25</td>\n",
       "      <td>1.69</td>\n",
       "    </tr>\n",
       "  </tbody>\n",
       "</table>\n",
       "<p>122 rows × 23 columns</p>\n",
       "</div>"
      ],
      "text/plain": [
       "     index                                            avgOdds       city  \\\n",
       "542      0  [{'fighterId': 2597, 'value': 2.95}, {'fighter...  Abu Dhabi   \n",
       "543      0  [{'fighterId': 240, 'value': 1.5}, {'fighterId...  Abu Dhabi   \n",
       "544      0  [{'fighterId': 141, 'value': 3.37}, {'fighterI...  Abu Dhabi   \n",
       "545      0  [{'fighterId': 2319, 'value': 1.49}, {'fighter...  Abu Dhabi   \n",
       "546      0  [{'fighterId': 462, 'value': 1.93}, {'fighterI...  Abu Dhabi   \n",
       "..     ...                                                ...        ...   \n",
       "659      0  [{'fighterId': 430, 'value': 3}, {'fighterId':...  Las Vegas   \n",
       "660      0  [{'fighterId': 288, 'value': 2.22}, {'fighterI...  Las Vegas   \n",
       "661      0  [{'fighterId': 552, 'value': 1.74}, {'fighterI...  Las Vegas   \n",
       "662      0  [{'fighterId': 215, 'value': 1.54}, {'fighterI...  Las Vegas   \n",
       "663      0  [{'fighterId': 17, 'value': 2.25}, {'fighterId...  Las Vegas   \n",
       "\n",
       "     completed               country  duration      eventDate.date  \\\n",
       "542       True  United Arab Emirates     300.0 2021-01-16 00:00:01   \n",
       "543       True  United Arab Emirates     300.0 2021-01-16 00:00:02   \n",
       "544       True  United Arab Emirates     300.0 2021-01-16 00:00:03   \n",
       "545       True  United Arab Emirates     300.0 2021-01-16 00:00:04   \n",
       "546       True  United Arab Emirates     300.0 2021-01-16 00:00:05   \n",
       "..         ...                   ...       ...                 ...   \n",
       "659       True                   USA      82.0 2021-04-10 00:00:07   \n",
       "660       True                   USA     300.0 2021-04-10 00:00:09   \n",
       "661       True                   USA     288.0 2021-04-10 00:00:10   \n",
       "662       True                   USA     127.0 2021-04-10 00:00:11   \n",
       "663       True                   USA     300.0 2021-04-10 00:00:12   \n",
       "\n",
       "    eventDate.timezone  eventDate.timezone_type  fighterId_1  ...  \\\n",
       "542      Europe/Berlin                        3         2597  ...   \n",
       "543      Europe/Berlin                        3          240  ...   \n",
       "544      Europe/Berlin                        3          141  ...   \n",
       "545      Europe/Berlin                        3         2319  ...   \n",
       "546      Europe/Berlin                        3          462  ...   \n",
       "..                 ...                      ...          ...  ...   \n",
       "659      Europe/Berlin                        3          430  ...   \n",
       "660      Europe/Berlin                        3          288  ...   \n",
       "661      Europe/Berlin                        3          552  ...   \n",
       "662      Europe/Berlin                        3          215  ...   \n",
       "663      Europe/Berlin                        3           17  ...   \n",
       "\n",
       "                                                  link             name  \\\n",
       "542  http://www.ufcstats.com/fight-details/3d903bc3...  UFC Fight Night   \n",
       "543  http://www.ufcstats.com/fight-details/97c80f69...  UFC Fight Night   \n",
       "544  http://www.ufcstats.com/fight-details/3fcd53eb...  UFC Fight Night   \n",
       "545  http://www.ufcstats.com/fight-details/0165bd3c...  UFC Fight Night   \n",
       "546  http://www.ufcstats.com/fight-details/97ad63e6...  UFC Fight Night   \n",
       "..                                                 ...              ...   \n",
       "659  http://www.ufcstats.com/fight-details/99829621...  UFC Fight Night   \n",
       "660  http://www.ufcstats.com/fight-details/ac9a8b73...  UFC Fight Night   \n",
       "661  http://www.ufcstats.com/fight-details/0992795f...  UFC Fight Night   \n",
       "662  http://www.ufcstats.com/fight-details/646eeca9...  UFC Fight Night   \n",
       "663  http://www.ufcstats.com/fight-details/71b81d81...  UFC Fight Night   \n",
       "\n",
       "     rounds             timezone weightCategory.id      weightCategory.name  \\\n",
       "542     3.0           Asia/Dubai                 4           Полулегкий вес   \n",
       "543     3.0           Asia/Dubai                12    Женский легчайший вес   \n",
       "544     3.0           Asia/Dubai                 6          Полусредний вес   \n",
       "545     3.0           Asia/Dubai                 9              Тяжелый вес   \n",
       "546     3.0           Asia/Dubai                12    Женский легчайший вес   \n",
       "..      ...                  ...               ...                      ...   \n",
       "659     2.0  America/Los_Angeles                 5               Легкий вес   \n",
       "660     3.0  America/Los_Angeles                 6          Полусредний вес   \n",
       "661     1.0  America/Los_Angeles                10  Женский минимальный вес   \n",
       "662     2.0  America/Los_Angeles                 7              Средний вес   \n",
       "663     3.0  America/Los_Angeles                 4           Полулегкий вес   \n",
       "\n",
       "    winMethods  winnerId f1_odds f2_odds  \n",
       "542    ['DEC']    3418.0    2.95    1.43  \n",
       "543    ['DEC']    3398.0    1.50    2.70  \n",
       "544    ['DEC']     453.0    3.37    1.34  \n",
       "545    ['DEC']    2319.0    1.49    2.72  \n",
       "546    ['DEC']    3666.0    1.93    1.93  \n",
       "..         ...       ...     ...     ...  \n",
       "659     ['KO']    3587.0    3.00    1.42  \n",
       "660    ['DEC']    3037.0    2.22    1.71  \n",
       "661    ['SUB']     600.0    1.74    2.17  \n",
       "662    ['SUB']     215.0    1.54    2.58  \n",
       "663    ['DEC']      17.0    2.25    1.69  \n",
       "\n",
       "[122 rows x 23 columns]"
      ]
     },
     "execution_count": 3,
     "metadata": {},
     "output_type": "execute_result"
    }
   ],
   "source": [
    "events_df = pd.read_csv('../../data/0.events_raw.csv', index_col=0)\n",
    "### Убираем строки, где `winnerId` не совпадает с айди ни одного из бойцов\n",
    "events_df = events_df[~((events_df[\"winnerId\"] != events_df[\"fighterId_1\"]) & (events_df[\"winnerId\"] != events_df[\"fighterId_2\"]))]\n",
    "\n",
    "events_df[[\"f1_odds\", \"f2_odds\"]] = events_df[[\"avgOdds\", \"fighterId_1\", \"fighterId_2\"]]\\\n",
    "            .apply(lambda row: parse_odds(row), axis=1)\n",
    "\n",
    "events_df = events_df[~events_df['f1_odds'].isna()]\n",
    "events_df = events_df.reset_index()\n",
    "\n",
    "events_df['eventDate.date'] = pd.to_datetime(events_df['eventDate.date'])\n",
    "events_df = events_df[(events_df['eventDate.date'].dt.year == 2021)]\n",
    "events_df"
   ]
  },
  {
   "cell_type": "code",
   "execution_count": 4,
   "id": "ahead-danish",
   "metadata": {
    "scrolled": true
   },
   "outputs": [
    {
     "data": {
      "text/plain": [
       "(2597,\n",
       " 3418,\n",
       " 2.95,\n",
       " 1.43,\n",
       " 4,\n",
       " 'Abu Dhabi',\n",
       " 'United Arab Emirates',\n",
       " Timestamp('2021-01-16 00:00:01'),\n",
       " 'UFC Fight Night',\n",
       " 'Asia/Dubai')"
      ]
     },
     "execution_count": 4,
     "metadata": {},
     "output_type": "execute_result"
    }
   ],
   "source": [
    "indexes = events_df.index\n",
    "f1_id, f2_id, f1_odd, f2_odd, weightCategory_id, city, country, eventDate, eventName, eventTimezone = \\\n",
    "    events_df.loc[indexes[0], ['fighterId_1', 'fighterId_2', 'f1_odds', 'f2_odds', 'weightCategory.id',\n",
    "                        'city', 'country', 'eventDate.date', 'name', 'timezone']]\n",
    "\n",
    "\n",
    "f1_id, f2_id, f1_odd, f2_odd, weightCategory_id, city, country, eventDate, eventName, eventTimezone"
   ]
  },
  {
   "cell_type": "code",
   "execution_count": 7,
   "id": "attached-night",
   "metadata": {
    "scrolled": true
   },
   "outputs": [
    {
     "name": "stdout",
     "output_type": "stream",
     "text": [
      "curl -X 'GET'   'http://127.0.0.1:8001/predict_fight?f1_id=2597&f2_id=3418&f1_odd=2.95&f2_odd=1.43&weightCategory_id=4&city=Abu%20Dhabi&country=United%20Arab%20Emirates&event_date=2021-01-16&event_name=UFC%20Fight%20Night&time_zone=Asia/Dubai'   -H 'accept: application/json'\n"
     ]
    },
    {
     "data": {
      "text/plain": [
       "{'success': True,\n",
       " 'y_proba_catboost_v1_0': 0.5110534340677326,\n",
       " 'y_proba_catboost_v1_1': 0.5130697956703532,\n",
       " 'y_proba_catboost_v1_2': 0.509842161015506,\n",
       " 'y_proba_catboost_v1_1_2020': 0.48796163965492095,\n",
       " 'y_proba_catboost_v1_2_2020': 0.5072121565534351,\n",
       " 'y_proba_catboost_v1_1_copy1': 0.5041415022218365,\n",
       " 'y_proba_catboost_v2_1': 0.5182603755258601}"
      ]
     },
     "execution_count": 7,
     "metadata": {},
     "output_type": "execute_result"
    }
   ],
   "source": [
    "Curl = f\"\"\"curl -X 'GET' \\\n",
    "  'http://127.0.0.1:8001/predict_fight?f1_id={f1_id}&f2_id={f2_id}&f1_odd={f1_odd}&f2_odd={f2_odd}&\\\n",
    "weightCategory_id={weightCategory_id}&\\\n",
    "city={city.replace(' ', '%20')}&\\\n",
    "country={country.replace(' ', '%20')}&\\\n",
    "event_date={str(eventDate)[:10]}&\\\n",
    "event_name={eventName.replace(' ', '%20')}&\\\n",
    "time_zone={eventTimezone}' \\\n",
    "  -H 'accept: application/json'\"\"\"\n",
    "\n",
    "print(Curl)\n",
    "args = shlex.split(Curl)\n",
    "process = subprocess.Popen(args, shell=False, stdout=subprocess.PIPE, stderr=subprocess.PIPE)\n",
    "stdout, stderr = process.communicate()\n",
    "response = json.loads(stdout.decode(\"UTF-8\"))\n",
    "# v0_0 = response['y_proba_catboost_v1_0']\n",
    "# v0_1 = response['y_proba_catboost_v1_1']\n",
    "# v0_2 = response['y_proba_catboost_v1_2']\n",
    "response"
   ]
  },
  {
   "cell_type": "code",
   "execution_count": 101,
   "id": "martial-sperm",
   "metadata": {
    "scrolled": true
   },
   "outputs": [
    {
     "name": "stderr",
     "output_type": "stream",
     "text": [
      "<ipython-input-101-c6c0a08d4cec>:1: TqdmDeprecationWarning: This function will be removed in tqdm==5.0.0\n",
      "Please use `tqdm.notebook.tqdm` instead of `tqdm.tqdm_notebook`\n",
      "  for ind in tqdm(events_df.index[:1]):\n"
     ]
    },
    {
     "data": {
      "application/vnd.jupyter.widget-view+json": {
       "model_id": "62fd28885bcf4b04a9ec5bb63effb52b",
       "version_major": 2,
       "version_minor": 0
      },
      "text/plain": [
       "  0%|          | 0/1 [00:00<?, ?it/s]"
      ]
     },
     "metadata": {},
     "output_type": "display_data"
    }
   ],
   "source": [
    "for ind in tqdm(events_df.index[:1]):\n",
    "    f1_id, f2_id, f1_odd, f2_odd, weightCategory_id, city, country, eventDate, eventName, eventTimezone = \\\n",
    "        events_df.loc[ind, ['fighterId_1', 'fighterId_2', 'f1_odds', 'f2_odds', 'weightCategory.id',\n",
    "                            'city', 'country', 'eventDate.date', 'name', 'timezone']]\n",
    "\n",
    "    f1_id, f2_id, f1_odd, f2_odd, weightCategory_id, city, country, eventDate, eventName, eventTimezone\n",
    "   \n",
    "    Curl = f\"\"\"curl -X 'GET' \\\n",
    "  'http://127.0.0.1:8001/predict_fight?f1_id={f1_id}&f2_id={f2_id}&f1_odd={f1_odd}&f2_odd={f2_odd}&\\\n",
    "weightCategory_id={weightCategory_id}&\\\n",
    "city={city.replace(' ', '%20')}&\\\n",
    "country={country.replace(' ', '%20')}&\\\n",
    "event_date={str(eventDate)[:10]}&\\\n",
    "event_name={eventName.replace(' ', '%20')}&\\\n",
    "time_zone={eventTimezone}' \\\n",
    "  -H 'accept: application/json'\"\"\"\n",
    "\n",
    "    args = shlex.split(Curl)\n",
    "    process = subprocess.Popen(args, shell=False, stdout=subprocess.PIPE, stderr=subprocess.PIPE)\n",
    "    stdout, stderr = process.communicate()\n",
    "    response = json.loads(stdout.decode(\"UTF-8\"))\n",
    "    if response['success']:    \n",
    "        v0_0 = response['y_proba_catboost_v1_0']\n",
    "        v0_1 = response['y_proba_catboost_v1_1']\n",
    "        v0_2 = response['y_proba_catboost_v1_2']\n",
    "\n",
    "        events_df.at[ind, 'v0_0'] = v0_0\n",
    "        events_df.at[ind, 'v0_1'] = v0_1\n",
    "        events_df.at[ind, 'v0_2'] = v0_2"
   ]
  },
  {
   "cell_type": "code",
   "execution_count": 102,
   "id": "collect-norfolk",
   "metadata": {},
   "outputs": [
    {
     "data": {
      "text/plain": [
       "{'success': True,\n",
       " 'y_proba_catboost_v1_0': 0.5678792119930414,\n",
       " 'values': \"[6047.0, 17, 1824.0, 958.0, 5.0, 4.0, 5.0, 0.0, 1709.0, 860.0, 0.0, 13.0, 1454.0, 666.0, 203.0, 156.0, 52.0, 38.0, 1416.0, 645.0, 119.0, 87.0, 174.0, 128.0, 11, 0, 9, 3, 0.5252192982456141, 0.8, 0.5032182562902282, 0.4580467675378267, 0.7684729064039408, 0.7307692307692307, 0.4555084745762712, 0.7310924369747899, 0.735632183908046, 0.6470588235294118, 0.0, 0.5294117647058824, 0.1764705882352941, 9.505539937158922, 0.0396891020340664, 8.533156937324295, 6.608235488672069, 1.5478749793285926, 0.3770464693236315, 6.39986770299322, 0.863237969240946, 1.2700512650901274, 0.0, 0.128989581610716, 0, 2, 1898.0, 6, 411.0, 179.0, 3.0, 1.0, 0.0, 0.0, 400.0, 171.0, 0.0, 0.0, 342.0, 127.0, 45.0, 31.0, 13.0, 13.0, 353.0, 147.0, 5.0, 3.0, 42.0, 21.0, 4, 0, 3, 0, 0.4355231143552311, 0.3333333333333333, 0.4275, 0.3713450292397661, 0.6888888888888889, 1.0, 0.4164305949008499, 0.6, 0.5, 0.6666666666666666, 0.0, 0.5, 0.0, 5.65858798735511, 0.0316122233930453, 5.405690200210748, 4.014752370916755, 0.9799789251844044, 0.410958904109589, 4.64699683877766, 0.0948366701791359, 0.6638566912539515, 0.0, 0.0, 2, 0, 29.0, 32.0, 1.64, 2.36, '4', 'UFC Fight Night', '---', True, 'nan', 'USA', 'Oahu', 175.26, 180.34, 106.68, 'Pacific/Honolulu', 'USA', 'unknown', 182.88, 180.34, 101.6, 'America/New_York', 0, 0, 0, 0, 0, 0, 4149.0, 11.0, 1413.0, 779.0, 2.0, 3.0, 5.0, 0.0, 1309.0, 689.0, 0.0, 13.0, 1112.0, 539.0, 158.0, 125.0, 39.0, 25.0, 1063.0, 498.0, 114.0, 84.0, 132.0, 107.0, 7.0, 0.0, 6.0, 3.0, 0.08969618389038297, 0.46666666666666673, 0.07571825629022821, 0.0867017382980606, 0.07958401751505195, -0.2692307692307693, 0.03907787967542131, 0.1310924369747899, 0.23563218390804597, -0.019607843137254832, 0.0, 0.02941176470588236, 0.1764705882352941, 3.8469519498038114, 0.0080768786410211, 3.1274667371135463, 2.593483117755314, 0.5678960541441882, -0.03391243478595751, 1.7528708642155593, 0.7684012990618101, 0.6061945738361759, 0.0, 0.128989581610716, -2.0, 2.0, -0.72, -3.0, 0.0, -7.6200000000000045, 5.0800000000000125, 0.0, 0.0, 0.0]\",\n",
       " 'columns': \"['f1_cumsum_duration', 'f1_cumsum_winner', 'f1_cumsum_hitsTotal', 'f1_cumsum_hitsSuccessful', 'f1_cumsum_takedownTotal', 'f1_cumsum_takedownSuccessful', 'f1_cumsum_submissionAttempts', 'f1_cumsum_takeovers', 'f1_cumsum_accentedHitsTotal', 'f1_cumsum_accentedHitsSuccessful', 'f1_cumsum_knockdowns', 'f1_cumsum_protectionPassage', 'f1_cumsum_hitsHeadTotal', 'f1_cumsum_hitsHeadSuccessful', 'f1_cumsum_hitsBodyTotal', 'f1_cumsum_hitsBodySuccessful', 'f1_cumsum_hitsLegsTotal', 'f1_cumsum_hitsLegsSuccessful', 'f1_cumsum_accentedHitsPositionDistanceTotal', 'f1_cumsum_accentedHitsPositionDistanceSuccessful', 'f1_cumsum_accentedHitsPositionClinchTotal', 'f1_cumsum_accentedHitsPositionClinchSuccessful', 'f1_cumsum_accentedHitsPositionParterTotal', 'f1_cumsum_accentedHitsPositionParterSuccessful', 'f1_cumsum_winMethods_[DEC]', 'f1_cumsum_winMethods_[DQ]', 'f1_cumsum_winMethods_[KO]', 'f1_cumsum_winMethods_[SUB]', 'f1_hits_accuracy', 'f1_takedown_accuracy', 'f1_accentedHits_accuracy', 'f1_hitsHead_accuracy', 'f1_hitsBody_accuracy', 'f1_hitsLegs_accuracy', 'f1_accentedHitsPositionDistance_accuracy', 'f1_accentedHitsPositionClinch_accuracy', 'f1_accentedHitsPositionParter_accuracy', 'f1_DEC_percent', 'f1_DQ_percent', 'f1_KO_percent', 'f1_SUB_percent', 'f1_hits_PM', 'f1_takedown_PM', 'f1_accentedHits_PM', 'f1_hitsHead_PM', 'f1_hitsBody_PM', 'f1_hitsLegs_PM', 'f1_accentedHitsPositionDistance_PM', 'f1_accentedHitsPositionClinch_PM', 'f1_accentedHitsPositionParter_PM', 'f1_knockdowns_PM', 'f1_protectionPassage_PM', 'f1_win_streak', 'f1_loose_streak', 'f2_cumsum_duration', 'f2_cumsum_winner', 'f2_cumsum_hitsTotal', 'f2_cumsum_hitsSuccessful', 'f2_cumsum_takedownTotal', 'f2_cumsum_takedownSuccessful', 'f2_cumsum_submissionAttempts', 'f2_cumsum_takeovers', 'f2_cumsum_accentedHitsTotal', 'f2_cumsum_accentedHitsSuccessful', 'f2_cumsum_knockdowns', 'f2_cumsum_protectionPassage', 'f2_cumsum_hitsHeadTotal', 'f2_cumsum_hitsHeadSuccessful', 'f2_cumsum_hitsBodyTotal', 'f2_cumsum_hitsBodySuccessful', 'f2_cumsum_hitsLegsTotal', 'f2_cumsum_hitsLegsSuccessful', 'f2_cumsum_accentedHitsPositionDistanceTotal', 'f2_cumsum_accentedHitsPositionDistanceSuccessful', 'f2_cumsum_accentedHitsPositionClinchTotal', 'f2_cumsum_accentedHitsPositionClinchSuccessful', 'f2_cumsum_accentedHitsPositionParterTotal', 'f2_cumsum_accentedHitsPositionParterSuccessful', 'f2_cumsum_winMethods_[DEC]', 'f2_cumsum_winMethods_[DQ]', 'f2_cumsum_winMethods_[KO]', 'f2_cumsum_winMethods_[SUB]', 'f2_hits_accuracy', 'f2_takedown_accuracy', 'f2_accentedHits_accuracy', 'f2_hitsHead_accuracy', 'f2_hitsBody_accuracy', 'f2_hitsLegs_accuracy', 'f2_accentedHitsPositionDistance_accuracy', 'f2_accentedHitsPositionClinch_accuracy', 'f2_accentedHitsPositionParter_accuracy', 'f2_DEC_percent', 'f2_DQ_percent', 'f2_KO_percent', 'f2_SUB_percent', 'f2_hits_PM', 'f2_takedown_PM', 'f2_accentedHits_PM', 'f2_hitsHead_PM', 'f2_hitsBody_PM', 'f2_hitsLegs_PM', 'f2_accentedHitsPositionDistance_PM', 'f2_accentedHitsPositionClinch_PM', 'f2_accentedHitsPositionParter_PM', 'f2_knockdowns_PM', 'f2_protectionPassage_PM', 'f2_win_streak', 'f2_loose_streak', 'f1_age', 'f2_age', 'f1_odds', 'f2_odds', 'weightCategory.id', 'city', 'country', 'is_fight_night', 'timezone', 'f1_country', 'f1_city', 'f1_armSpan', 'f1_height', 'f1_legSwing', 'f1_timezone', 'f2_country', 'f2_city', 'f2_armSpan', 'f2_height', 'f2_legSwing', 'f2_timezone', 'f1_isHomeCity', 'f1_isHomeCountry', 'f1_isHomeTimezone', 'f2_isHomeCity', 'f2_isHomeCountry', 'f2_isHomeTimezone', 'cumsum_duration_difference', 'cumsum_winner_difference', 'cumsum_hitsTotal_difference', 'cumsum_hitsSuccessful_difference', 'cumsum_takedownTotal_difference', 'cumsum_takedownSuccessful_difference', 'cumsum_submissionAttempts_difference', 'cumsum_takeovers_difference', 'cumsum_accentedHitsTotal_difference', 'cumsum_accentedHitsSuccessful_difference', 'cumsum_knockdowns_difference', 'cumsum_protectionPassage_difference', 'cumsum_hitsHeadTotal_difference', 'cumsum_hitsHeadSuccessful_difference', 'cumsum_hitsBodyTotal_difference', 'cumsum_hitsBodySuccessful_difference', 'cumsum_hitsLegsTotal_difference', 'cumsum_hitsLegsSuccessful_difference', 'cumsum_accentedHitsPositionDistanceTotal_difference', 'cumsum_accentedHitsPositionDistanceSuccessful_difference', 'cumsum_accentedHitsPositionClinchTotal_difference', 'cumsum_accentedHitsPositionClinchSuccessful_difference', 'cumsum_accentedHitsPositionParterTotal_difference', 'cumsum_accentedHitsPositionParterSuccessful_difference', 'cumsum_winMethods_[DEC]_difference', 'cumsum_winMethods_[DQ]_difference', 'cumsum_winMethods_[KO]_difference', 'cumsum_winMethods_[SUB]_difference', 'hits_accuracy_difference', 'takedown_accuracy_difference', 'accentedHits_accuracy_difference', 'hitsHead_accuracy_difference', 'hitsBody_accuracy_difference', 'hitsLegs_accuracy_difference', 'accentedHitsPositionDistance_accuracy_difference', 'accentedHitsPositionClinch_accuracy_difference', 'accentedHitsPositionParter_accuracy_difference', 'DEC_percent_difference', 'DQ_percent_difference', 'KO_percent_difference', 'SUB_percent_difference', 'hits_PM_difference', 'takedown_PM_difference', 'accentedHits_PM_difference', 'hitsHead_PM_difference', 'hitsBody_PM_difference', 'hitsLegs_PM_difference', 'accentedHitsPositionDistance_PM_difference', 'accentedHitsPositionClinch_PM_difference', 'accentedHitsPositionParter_PM_difference', 'knockdowns_PM_difference', 'protectionPassage_PM_difference', 'win_streak_difference', 'loose_streak_difference', 'odds_difference', 'age_difference', 'height_difference', 'armSpan_difference', 'legSwing_difference', 'isHomeCity_difference', 'isHomeCountry_difference', 'isHomeTimezone_difference']\",\n",
       " 'y_proba_catboost_v1_1': 0.5562215175033262,\n",
       " 'y_proba_catboost_v1_2': 0.5616961059704917}"
      ]
     },
     "execution_count": 102,
     "metadata": {},
     "output_type": "execute_result"
    }
   ],
   "source": [
    "response"
   ]
  },
  {
   "cell_type": "code",
   "execution_count": null,
   "id": "durable-conditions",
   "metadata": {},
   "outputs": [],
   "source": []
  },
  {
   "cell_type": "code",
   "execution_count": 64,
   "id": "gentle-expert",
   "metadata": {
    "scrolled": true
   },
   "outputs": [
    {
     "name": "stdout",
     "output_type": "stream",
     "text": [
      "(78, 26)\n",
      "(59, 26)\n"
     ]
    }
   ],
   "source": [
    "print(events_df.shape)\n",
    "events_df = events_df[~events_df['v0_0'].isna()]\n",
    "print(events_df.shape)"
   ]
  },
  {
   "cell_type": "code",
   "execution_count": 66,
   "id": "optical-suggestion",
   "metadata": {},
   "outputs": [
    {
     "data": {
      "text/plain": [
       "<AxesSubplot:>"
      ]
     },
     "execution_count": 66,
     "metadata": {},
     "output_type": "execute_result"
    },
    {
     "data": {
      "image/png": "[encoded data removed]",
      "text/plain": [
       "<Figure size 432x288 with 1 Axes>"
      ]
     },
     "metadata": {
      "needs_background": "light"
     },
     "output_type": "display_data"
    }
   ],
   "source": [
    "events_df['v0_0'].hist()"
   ]
  },
  {
   "cell_type": "code",
   "execution_count": 74,
   "id": "olympic-dallas",
   "metadata": {},
   "outputs": [
    {
     "name": "stderr",
     "output_type": "stream",
     "text": [
      "<ipython-input-74-9838ea2a7a3e>:1: SettingWithCopyWarning: \n",
      "A value is trying to be set on a copy of a slice from a DataFrame.\n",
      "Try using .loc[row_indexer,col_indexer] = value instead\n",
      "\n",
      "See the caveats in the documentation: https://pandas.pydata.org/pandas-docs/stable/user_guide/indexing.html#returning-a-view-versus-a-copy\n",
      "  events_df['winner'] = events_df['winnerId'] == events_df['fighterId_1']\n"
     ]
    },
    {
     "data": {
      "text/plain": [
       "0.5254237288135594"
      ]
     },
     "execution_count": 74,
     "metadata": {},
     "output_type": "execute_result"
    }
   ],
   "source": [
    "events_df['winner'] = events_df['winnerId'] == events_df['fighterId_1']\n",
    "events_df['winner'].mean()"
   ]
  },
  {
   "cell_type": "code",
   "execution_count": 75,
   "id": "honey-baghdad",
   "metadata": {},
   "outputs": [
    {
     "name": "stdout",
     "output_type": "stream",
     "text": [
      "v0_0_pred 0.5254237288135594\n",
      "v0_1_pred 0.5932203389830508\n",
      "v0_2_pred 0.5254237288135594\n"
     ]
    },
    {
     "name": "stderr",
     "output_type": "stream",
     "text": [
      "<ipython-input-75-41c9a4307a23>:1: SettingWithCopyWarning: \n",
      "A value is trying to be set on a copy of a slice from a DataFrame.\n",
      "Try using .loc[row_indexer,col_indexer] = value instead\n",
      "\n",
      "See the caveats in the documentation: https://pandas.pydata.org/pandas-docs/stable/user_guide/indexing.html#returning-a-view-versus-a-copy\n",
      "  events_df['v0_0_pred'] = events_df['v0_0'] > 0.5\n",
      "<ipython-input-75-41c9a4307a23>:2: SettingWithCopyWarning: \n",
      "A value is trying to be set on a copy of a slice from a DataFrame.\n",
      "Try using .loc[row_indexer,col_indexer] = value instead\n",
      "\n",
      "See the caveats in the documentation: https://pandas.pydata.org/pandas-docs/stable/user_guide/indexing.html#returning-a-view-versus-a-copy\n",
      "  events_df['v0_1_pred'] = events_df['v0_1'] > 0.5\n",
      "<ipython-input-75-41c9a4307a23>:3: SettingWithCopyWarning: \n",
      "A value is trying to be set on a copy of a slice from a DataFrame.\n",
      "Try using .loc[row_indexer,col_indexer] = value instead\n",
      "\n",
      "See the caveats in the documentation: https://pandas.pydata.org/pandas-docs/stable/user_guide/indexing.html#returning-a-view-versus-a-copy\n",
      "  events_df['v0_2_pred'] = events_df['v0_2'] > 0.5\n"
     ]
    }
   ],
   "source": [
    "events_df['v0_0_pred'] = events_df['v0_0'] > 0.5\n",
    "events_df['v0_1_pred'] = events_df['v0_1'] > 0.5\n",
    "events_df['v0_2_pred'] = events_df['v0_2'] > 0.5\n",
    "\n",
    "print('v0_0_pred', (events_df['v0_0_pred'] == events_df['winner']).mean())\n",
    "print('v0_1_pred', (events_df['v0_1_pred'] == events_df['winner']).mean())\n",
    "print('v0_2_pred', (events_df['v0_2_pred'] == events_df['winner']).mean())"
   ]
  },
  {
   "cell_type": "code",
   "execution_count": 79,
   "id": "sitting-dubai",
   "metadata": {},
   "outputs": [
    {
     "name": "stderr",
     "output_type": "stream",
     "text": [
      "/home/nikolay/workspace/UFC_betting/UFC_3.0/Notebooks/Catboost_v1_2/../../core/train_utils.py:64: SettingWithCopyWarning: \n",
      "A value is trying to be set on a copy of a slice from a DataFrame.\n",
      "Try using .loc[row_indexer,col_indexer] = value instead\n",
      "\n",
      "See the caveats in the documentation: https://pandas.pydata.org/pandas-docs/stable/user_guide/indexing.html#returning-a-view-versus-a-copy\n",
      "  df['favorite'] = favorite_list\n"
     ]
    },
    {
     "data": {
      "application/vnd.jupyter.widget-view+json": {
       "model_id": "ada87ec85d05450287bcf3c05c822020",
       "version_major": 2,
       "version_minor": 0
      },
      "text/plain": [
       "  0%|          | 0/59 [00:00<?, ?it/s]"
      ]
     },
     "metadata": {},
     "output_type": "display_data"
    },
    {
     "name": "stdout",
     "output_type": "stream",
     "text": [
      "{'accuracy:': 0.5254237288135594,\n",
      " 'bets_count:': 59,\n",
      " 'finish_bank:': -242.0,\n",
      " 'roi:': -4.101694915254237}\n"
     ]
    },
    {
     "data": {
      "application/vnd.jupyter.widget-view+json": {
       "model_id": "76ca3999ee1b45a693d75e4d1a1338c3",
       "version_major": 2,
       "version_minor": 0
      },
      "text/plain": [
       "  0%|          | 0/39 [00:00<?, ?it/s]"
      ]
     },
     "metadata": {},
     "output_type": "display_data"
    },
    {
     "name": "stdout",
     "output_type": "stream",
     "text": [
      "{'accuracy:': 0.5641025641025641,\n",
      " 'bets_count:': 39,\n",
      " 'finish_bank:': -577.0,\n",
      " 'roi:': -14.794871794871796}\n"
     ]
    },
    {
     "data": {
      "application/vnd.jupyter.widget-view+json": {
       "model_id": "0a6bf95dfbb340a387713c0f12b3ad4d",
       "version_major": 2,
       "version_minor": 0
      },
      "text/plain": [
       "  0%|          | 0/20 [00:00<?, ?it/s]"
      ]
     },
     "metadata": {},
     "output_type": "display_data"
    },
    {
     "name": "stdout",
     "output_type": "stream",
     "text": [
      "{'accuracy:': 0.45, 'bets_count:': 20, 'finish_bank:': 335.0, 'roi:': 16.75}\n"
     ]
    }
   ],
   "source": [
    "events_df = get_winner_favorite(events_df)\n",
    "\n",
    "favorite = events_df[events_df['v0_0_pred'] == events_df['favorite']]\n",
    "underdog = events_df[events_df['v0_0_pred'] != events_df['favorite']]\n",
    "\n",
    "calculate_roi(events_df, pred_col='v0_0_pred')\n",
    "calculate_roi(favorite, pred_col='v0_0_pred')\n",
    "calculate_roi(underdog, pred_col='v0_0_pred')"
   ]
  },
  {
   "cell_type": "code",
   "execution_count": 80,
   "id": "mineral-massage",
   "metadata": {},
   "outputs": [
    {
     "data": {
      "application/vnd.jupyter.widget-view+json": {
       "model_id": "152e1802ab4e41cb9a4a0b38adfc7d7a",
       "version_major": 2,
       "version_minor": 0
      },
      "text/plain": [
       "  0%|          | 0/59 [00:00<?, ?it/s]"
      ]
     },
     "metadata": {},
     "output_type": "display_data"
    },
    {
     "name": "stdout",
     "output_type": "stream",
     "text": [
      "{'accuracy:': 0.5932203389830508,\n",
      " 'bets_count:': 59,\n",
      " 'finish_bank:': -430.0,\n",
      " 'roi:': -7.288135593220339}\n"
     ]
    },
    {
     "data": {
      "application/vnd.jupyter.widget-view+json": {
       "model_id": "69801497975d49638f586a214b9a7bc8",
       "version_major": 2,
       "version_minor": 0
      },
      "text/plain": [
       "  0%|          | 0/53 [00:00<?, ?it/s]"
      ]
     },
     "metadata": {},
     "output_type": "display_data"
    },
    {
     "name": "stdout",
     "output_type": "stream",
     "text": [
      "{'accuracy:': 0.5849056603773585,\n",
      " 'bets_count:': 53,\n",
      " 'finish_bank:': -677.0,\n",
      " 'roi:': -12.773584905660377}\n"
     ]
    },
    {
     "data": {
      "application/vnd.jupyter.widget-view+json": {
       "model_id": "1eb4f1c899754485ad2dd73cd3e39d7f",
       "version_major": 2,
       "version_minor": 0
      },
      "text/plain": [
       "  0%|          | 0/6 [00:00<?, ?it/s]"
      ]
     },
     "metadata": {},
     "output_type": "display_data"
    },
    {
     "name": "stdout",
     "output_type": "stream",
     "text": [
      "{'accuracy:': 0.6666666666666666,\n",
      " 'bets_count:': 6,\n",
      " 'finish_bank:': 246.99999999999997,\n",
      " 'roi:': 41.166666666666664}\n"
     ]
    }
   ],
   "source": [
    "favorite = events_df[events_df['v0_1_pred'] == events_df['favorite']]\n",
    "underdog = events_df[events_df['v0_1_pred'] != events_df['favorite']]\n",
    "\n",
    "calculate_roi(events_df, pred_col='v0_1_pred')\n",
    "calculate_roi(favorite, pred_col='v0_1_pred')\n",
    "calculate_roi(underdog, pred_col='v0_1_pred')"
   ]
  },
  {
   "cell_type": "code",
   "execution_count": 81,
   "id": "activated-tourist",
   "metadata": {},
   "outputs": [
    {
     "data": {
      "application/vnd.jupyter.widget-view+json": {
       "model_id": "9d14a98c33534636bcb77c3960ff104a",
       "version_major": 2,
       "version_minor": 0
      },
      "text/plain": [
       "  0%|          | 0/59 [00:00<?, ?it/s]"
      ]
     },
     "metadata": {},
     "output_type": "display_data"
    },
    {
     "name": "stdout",
     "output_type": "stream",
     "text": [
      "{'accuracy:': 0.5254237288135594,\n",
      " 'bets_count:': 59,\n",
      " 'finish_bank:': -242.0,\n",
      " 'roi:': -4.101694915254237}\n"
     ]
    },
    {
     "data": {
      "application/vnd.jupyter.widget-view+json": {
       "model_id": "b71cca290a824250ae19f54eb2389534",
       "version_major": 2,
       "version_minor": 0
      },
      "text/plain": [
       "  0%|          | 0/39 [00:00<?, ?it/s]"
      ]
     },
     "metadata": {},
     "output_type": "display_data"
    },
    {
     "name": "stdout",
     "output_type": "stream",
     "text": [
      "{'accuracy:': 0.5641025641025641,\n",
      " 'bets_count:': 39,\n",
      " 'finish_bank:': -577.0,\n",
      " 'roi:': -14.794871794871796}\n"
     ]
    },
    {
     "data": {
      "application/vnd.jupyter.widget-view+json": {
       "model_id": "7e9f03ff782b46aa95711545d0e3366b",
       "version_major": 2,
       "version_minor": 0
      },
      "text/plain": [
       "  0%|          | 0/20 [00:00<?, ?it/s]"
      ]
     },
     "metadata": {},
     "output_type": "display_data"
    },
    {
     "name": "stdout",
     "output_type": "stream",
     "text": [
      "{'accuracy:': 0.45, 'bets_count:': 20, 'finish_bank:': 335.0, 'roi:': 16.75}\n"
     ]
    }
   ],
   "source": [
    "favorite = events_df[events_df['v0_2_pred'] == events_df['favorite']]\n",
    "underdog = events_df[events_df['v0_2_pred'] != events_df['favorite']]\n",
    "\n",
    "calculate_roi(events_df, pred_col='v0_2_pred')\n",
    "calculate_roi(favorite, pred_col='v0_2_pred')\n",
    "calculate_roi(underdog, pred_col='v0_2_pred')"
   ]
  },
  {
   "cell_type": "code",
   "execution_count": null,
   "id": "guilty-blade",
   "metadata": {},
   "outputs": [],
   "source": []
  },
  {
   "cell_type": "code",
   "execution_count": 118,
   "id": "north-suspension",
   "metadata": {
    "scrolled": true
   },
   "outputs": [
    {
     "data": {
      "text/plain": [
       "(3527,\n",
       " 92,\n",
       " 1.83,\n",
       " 2.05,\n",
       " 4,\n",
       " 'Las Vegas',\n",
       " 'USA',\n",
       " Timestamp('2021-02-20 00:00:00'),\n",
       " 'UFC Fight Night',\n",
       " 'America/Los_Angeles')"
      ]
     },
     "execution_count": 118,
     "metadata": {},
     "output_type": "execute_result"
    }
   ],
   "source": [
    "f1_id, f2_id, f1_odd, f2_odd, weightCategory_id, city, country, eventDate, eventName, eventTimezone"
   ]
  },
  {
   "cell_type": "code",
   "execution_count": 119,
   "id": "gorgeous-novelty",
   "metadata": {},
   "outputs": [
    {
     "data": {
      "text/plain": [
       "'2021-02-20'"
      ]
     },
     "execution_count": 119,
     "metadata": {},
     "output_type": "execute_result"
    }
   ],
   "source": [
    "str(eventDate)[:10]"
   ]
  },
  {
   "cell_type": "code",
   "execution_count": 122,
   "id": "drawn-steal",
   "metadata": {
    "scrolled": true
   },
   "outputs": [
    {
     "ename": "JSONDecodeError",
     "evalue": "Expecting value: line 1 column 1 (char 0)",
     "output_type": "error",
     "traceback": [
      "\u001b[0;31m---------------------------------------------------------------------------\u001b[0m",
      "\u001b[0;31mJSONDecodeError\u001b[0m                           Traceback (most recent call last)",
      "\u001b[0;32m<ipython-input-122-6211c596049b>\u001b[0m in \u001b[0;36m<module>\u001b[0;34m\u001b[0m\n\u001b[1;32m     12\u001b[0m \u001b[0mprocess\u001b[0m \u001b[0;34m=\u001b[0m \u001b[0msubprocess\u001b[0m\u001b[0;34m.\u001b[0m\u001b[0mPopen\u001b[0m\u001b[0;34m(\u001b[0m\u001b[0margs\u001b[0m\u001b[0;34m,\u001b[0m \u001b[0mshell\u001b[0m\u001b[0;34m=\u001b[0m\u001b[0;32mFalse\u001b[0m\u001b[0;34m,\u001b[0m \u001b[0mstdout\u001b[0m\u001b[0;34m=\u001b[0m\u001b[0msubprocess\u001b[0m\u001b[0;34m.\u001b[0m\u001b[0mPIPE\u001b[0m\u001b[0;34m,\u001b[0m \u001b[0mstderr\u001b[0m\u001b[0;34m=\u001b[0m\u001b[0msubprocess\u001b[0m\u001b[0;34m.\u001b[0m\u001b[0mPIPE\u001b[0m\u001b[0;34m)\u001b[0m\u001b[0;34m\u001b[0m\u001b[0;34m\u001b[0m\u001b[0m\n\u001b[1;32m     13\u001b[0m \u001b[0mstdout\u001b[0m\u001b[0;34m,\u001b[0m \u001b[0mstderr\u001b[0m \u001b[0;34m=\u001b[0m \u001b[0mprocess\u001b[0m\u001b[0;34m.\u001b[0m\u001b[0mcommunicate\u001b[0m\u001b[0;34m(\u001b[0m\u001b[0;34m)\u001b[0m\u001b[0;34m\u001b[0m\u001b[0;34m\u001b[0m\u001b[0m\n\u001b[0;32m---> 14\u001b[0;31m \u001b[0mresponse\u001b[0m \u001b[0;34m=\u001b[0m \u001b[0mjson\u001b[0m\u001b[0;34m.\u001b[0m\u001b[0mloads\u001b[0m\u001b[0;34m(\u001b[0m\u001b[0mstdout\u001b[0m\u001b[0;34m.\u001b[0m\u001b[0mdecode\u001b[0m\u001b[0;34m(\u001b[0m\u001b[0;34m\"UTF-8\"\u001b[0m\u001b[0;34m)\u001b[0m\u001b[0;34m)\u001b[0m\u001b[0;34m\u001b[0m\u001b[0;34m\u001b[0m\u001b[0m\n\u001b[0m\u001b[1;32m     15\u001b[0m \u001b[0;34m\u001b[0m\u001b[0m\n\u001b[1;32m     16\u001b[0m \u001b[0mresponse\u001b[0m\u001b[0;34m\u001b[0m\u001b[0;34m\u001b[0m\u001b[0m\n",
      "\u001b[0;32m~/anaconda3/lib/python3.8/json/__init__.py\u001b[0m in \u001b[0;36mloads\u001b[0;34m(s, cls, object_hook, parse_float, parse_int, parse_constant, object_pairs_hook, **kw)\u001b[0m\n\u001b[1;32m    355\u001b[0m             \u001b[0mparse_int\u001b[0m \u001b[0;32mis\u001b[0m \u001b[0;32mNone\u001b[0m \u001b[0;32mand\u001b[0m \u001b[0mparse_float\u001b[0m \u001b[0;32mis\u001b[0m \u001b[0;32mNone\u001b[0m \u001b[0;32mand\u001b[0m\u001b[0;34m\u001b[0m\u001b[0;34m\u001b[0m\u001b[0m\n\u001b[1;32m    356\u001b[0m             parse_constant is None and object_pairs_hook is None and not kw):\n\u001b[0;32m--> 357\u001b[0;31m         \u001b[0;32mreturn\u001b[0m \u001b[0m_default_decoder\u001b[0m\u001b[0;34m.\u001b[0m\u001b[0mdecode\u001b[0m\u001b[0;34m(\u001b[0m\u001b[0ms\u001b[0m\u001b[0;34m)\u001b[0m\u001b[0;34m\u001b[0m\u001b[0;34m\u001b[0m\u001b[0m\n\u001b[0m\u001b[1;32m    358\u001b[0m     \u001b[0;32mif\u001b[0m \u001b[0mcls\u001b[0m \u001b[0;32mis\u001b[0m \u001b[0;32mNone\u001b[0m\u001b[0;34m:\u001b[0m\u001b[0;34m\u001b[0m\u001b[0;34m\u001b[0m\u001b[0m\n\u001b[1;32m    359\u001b[0m         \u001b[0mcls\u001b[0m \u001b[0;34m=\u001b[0m \u001b[0mJSONDecoder\u001b[0m\u001b[0;34m\u001b[0m\u001b[0;34m\u001b[0m\u001b[0m\n",
      "\u001b[0;32m~/anaconda3/lib/python3.8/json/decoder.py\u001b[0m in \u001b[0;36mdecode\u001b[0;34m(self, s, _w)\u001b[0m\n\u001b[1;32m    335\u001b[0m \u001b[0;34m\u001b[0m\u001b[0m\n\u001b[1;32m    336\u001b[0m         \"\"\"\n\u001b[0;32m--> 337\u001b[0;31m         \u001b[0mobj\u001b[0m\u001b[0;34m,\u001b[0m \u001b[0mend\u001b[0m \u001b[0;34m=\u001b[0m \u001b[0mself\u001b[0m\u001b[0;34m.\u001b[0m\u001b[0mraw_decode\u001b[0m\u001b[0;34m(\u001b[0m\u001b[0ms\u001b[0m\u001b[0;34m,\u001b[0m \u001b[0midx\u001b[0m\u001b[0;34m=\u001b[0m\u001b[0m_w\u001b[0m\u001b[0;34m(\u001b[0m\u001b[0ms\u001b[0m\u001b[0;34m,\u001b[0m \u001b[0;36m0\u001b[0m\u001b[0;34m)\u001b[0m\u001b[0;34m.\u001b[0m\u001b[0mend\u001b[0m\u001b[0;34m(\u001b[0m\u001b[0;34m)\u001b[0m\u001b[0;34m)\u001b[0m\u001b[0;34m\u001b[0m\u001b[0;34m\u001b[0m\u001b[0m\n\u001b[0m\u001b[1;32m    338\u001b[0m         \u001b[0mend\u001b[0m \u001b[0;34m=\u001b[0m \u001b[0m_w\u001b[0m\u001b[0;34m(\u001b[0m\u001b[0ms\u001b[0m\u001b[0;34m,\u001b[0m \u001b[0mend\u001b[0m\u001b[0;34m)\u001b[0m\u001b[0;34m.\u001b[0m\u001b[0mend\u001b[0m\u001b[0;34m(\u001b[0m\u001b[0;34m)\u001b[0m\u001b[0;34m\u001b[0m\u001b[0;34m\u001b[0m\u001b[0m\n\u001b[1;32m    339\u001b[0m         \u001b[0;32mif\u001b[0m \u001b[0mend\u001b[0m \u001b[0;34m!=\u001b[0m \u001b[0mlen\u001b[0m\u001b[0;34m(\u001b[0m\u001b[0ms\u001b[0m\u001b[0;34m)\u001b[0m\u001b[0;34m:\u001b[0m\u001b[0;34m\u001b[0m\u001b[0;34m\u001b[0m\u001b[0m\n",
      "\u001b[0;32m~/anaconda3/lib/python3.8/json/decoder.py\u001b[0m in \u001b[0;36mraw_decode\u001b[0;34m(self, s, idx)\u001b[0m\n\u001b[1;32m    353\u001b[0m             \u001b[0mobj\u001b[0m\u001b[0;34m,\u001b[0m \u001b[0mend\u001b[0m \u001b[0;34m=\u001b[0m \u001b[0mself\u001b[0m\u001b[0;34m.\u001b[0m\u001b[0mscan_once\u001b[0m\u001b[0;34m(\u001b[0m\u001b[0ms\u001b[0m\u001b[0;34m,\u001b[0m \u001b[0midx\u001b[0m\u001b[0;34m)\u001b[0m\u001b[0;34m\u001b[0m\u001b[0;34m\u001b[0m\u001b[0m\n\u001b[1;32m    354\u001b[0m         \u001b[0;32mexcept\u001b[0m \u001b[0mStopIteration\u001b[0m \u001b[0;32mas\u001b[0m \u001b[0merr\u001b[0m\u001b[0;34m:\u001b[0m\u001b[0;34m\u001b[0m\u001b[0;34m\u001b[0m\u001b[0m\n\u001b[0;32m--> 355\u001b[0;31m             \u001b[0;32mraise\u001b[0m \u001b[0mJSONDecodeError\u001b[0m\u001b[0;34m(\u001b[0m\u001b[0;34m\"Expecting value\"\u001b[0m\u001b[0;34m,\u001b[0m \u001b[0ms\u001b[0m\u001b[0;34m,\u001b[0m \u001b[0merr\u001b[0m\u001b[0;34m.\u001b[0m\u001b[0mvalue\u001b[0m\u001b[0;34m)\u001b[0m \u001b[0;32mfrom\u001b[0m \u001b[0;32mNone\u001b[0m\u001b[0;34m\u001b[0m\u001b[0;34m\u001b[0m\u001b[0m\n\u001b[0m\u001b[1;32m    356\u001b[0m         \u001b[0;32mreturn\u001b[0m \u001b[0mobj\u001b[0m\u001b[0;34m,\u001b[0m \u001b[0mend\u001b[0m\u001b[0;34m\u001b[0m\u001b[0;34m\u001b[0m\u001b[0m\n",
      "\u001b[0;31mJSONDecodeError\u001b[0m: Expecting value: line 1 column 1 (char 0)"
     ]
    }
   ],
   "source": [
    "Curl = f\"\"\"curl -X 'GET' \\\n",
    "'http://127.0.0.1:8001/predict_fight?f1_id={f1_id}&f2_id={f2_id}&f1_odd={f1_odd}&f2_odd={f2_odd}&\\\n",
    "weightCategory_id={weightCategory_id}&\\\n",
    "city={city.replace(' ', '%20')}&\\\n",
    "country={country.replace(' ', '%20')}&\\\n",
    "event_date={str(eventDate)[:10]}&\\\n",
    "event_name={eventName.replace(' ', '%20')}&\\\n",
    "time_zone={eventTimezone}' \\\n",
    "-H 'accept: application/json'\"\"\"\n",
    "\n",
    "args = shlex.split(Curl)\n",
    "process = subprocess.Popen(args, shell=False, stdout=subprocess.PIPE, stderr=subprocess.PIPE)\n",
    "stdout, stderr = process.communicate()\n",
    "response = json.loads(stdout.decode(\"UTF-8\"))\n",
    "\n",
    "response"
   ]
  },
  {
   "cell_type": "code",
   "execution_count": 56,
   "id": "marked-sailing",
   "metadata": {},
   "outputs": [
    {
     "data": {
      "text/plain": [
       "''"
      ]
     },
     "execution_count": 56,
     "metadata": {},
     "output_type": "execute_result"
    }
   ],
   "source": [
    "stdout.decode(\"UTF-8\")"
   ]
  },
  {
   "cell_type": "code",
   "execution_count": 18,
   "id": "exact-fairy",
   "metadata": {
    "scrolled": true
   },
   "outputs": [
    {
     "data": {
      "text/html": [
       "<div>\n",
       "<style scoped>\n",
       "    .dataframe tbody tr th:only-of-type {\n",
       "        vertical-align: middle;\n",
       "    }\n",
       "\n",
       "    .dataframe tbody tr th {\n",
       "        vertical-align: top;\n",
       "    }\n",
       "\n",
       "    .dataframe thead th {\n",
       "        text-align: right;\n",
       "    }\n",
       "</style>\n",
       "<table border=\"1\" class=\"dataframe\">\n",
       "  <thead>\n",
       "    <tr style=\"text-align: right;\">\n",
       "      <th></th>\n",
       "      <th>name</th>\n",
       "      <th>weight</th>\n",
       "      <th>height</th>\n",
       "      <th>armSpan</th>\n",
       "      <th>legSwing</th>\n",
       "      <th>weightCategory.id</th>\n",
       "      <th>weightCategory.name</th>\n",
       "      <th>dateOfBirth</th>\n",
       "      <th>country</th>\n",
       "      <th>city</th>\n",
       "      <th>timezone</th>\n",
       "    </tr>\n",
       "    <tr>\n",
       "      <th>id</th>\n",
       "      <th></th>\n",
       "      <th></th>\n",
       "      <th></th>\n",
       "      <th></th>\n",
       "      <th></th>\n",
       "      <th></th>\n",
       "      <th></th>\n",
       "      <th></th>\n",
       "      <th></th>\n",
       "      <th></th>\n",
       "      <th></th>\n",
       "    </tr>\n",
       "  </thead>\n",
       "  <tbody>\n",
       "    <tr>\n",
       "      <th>1</th>\n",
       "      <td>Tanner Boser</td>\n",
       "      <td>115.67</td>\n",
       "      <td>187.96</td>\n",
       "      <td>190.50</td>\n",
       "      <td>101.70</td>\n",
       "      <td>9</td>\n",
       "      <td>Тяжелый вес</td>\n",
       "      <td>1991-08-02</td>\n",
       "      <td>Canada</td>\n",
       "      <td>Bonnyville</td>\n",
       "      <td>America/Edmonton</td>\n",
       "    </tr>\n",
       "    <tr>\n",
       "      <th>2</th>\n",
       "      <td>Giacomo Lemos</td>\n",
       "      <td>112.04</td>\n",
       "      <td>190.50</td>\n",
       "      <td>190.50</td>\n",
       "      <td>101.70</td>\n",
       "      <td>9</td>\n",
       "      <td>Тяжелый вес</td>\n",
       "      <td>1989-06-23</td>\n",
       "      <td>Brazil</td>\n",
       "      <td>NaN</td>\n",
       "      <td>America/Sao_Paulo</td>\n",
       "    </tr>\n",
       "    <tr>\n",
       "      <th>3</th>\n",
       "      <td>Shamil Abdurakhimov</td>\n",
       "      <td>106.59</td>\n",
       "      <td>190.50</td>\n",
       "      <td>193.04</td>\n",
       "      <td>105.41</td>\n",
       "      <td>9</td>\n",
       "      <td>Тяжелый вес</td>\n",
       "      <td>1981-09-02</td>\n",
       "      <td>Dagestan</td>\n",
       "      <td>Makhachkala</td>\n",
       "      <td>Europe/Moscow</td>\n",
       "    </tr>\n",
       "    <tr>\n",
       "      <th>4</th>\n",
       "      <td>Klidson Abreu</td>\n",
       "      <td>92.99</td>\n",
       "      <td>182.88</td>\n",
       "      <td>187.96</td>\n",
       "      <td>101.70</td>\n",
       "      <td>8</td>\n",
       "      <td>Полутяжелый вес</td>\n",
       "      <td>1992-12-24</td>\n",
       "      <td>Brazil</td>\n",
       "      <td>Manaus</td>\n",
       "      <td>America/Manaus</td>\n",
       "    </tr>\n",
       "    <tr>\n",
       "      <th>5</th>\n",
       "      <td>Yoshihiro Akiyama</td>\n",
       "      <td>77.11</td>\n",
       "      <td>177.80</td>\n",
       "      <td>190.50</td>\n",
       "      <td>106.68</td>\n",
       "      <td>6</td>\n",
       "      <td>Полусредний вес</td>\n",
       "      <td>1975-07-29</td>\n",
       "      <td>Japan</td>\n",
       "      <td>Ikuno</td>\n",
       "      <td>Asia/Tokyo</td>\n",
       "    </tr>\n",
       "    <tr>\n",
       "      <th>...</th>\n",
       "      <td>...</td>\n",
       "      <td>...</td>\n",
       "      <td>...</td>\n",
       "      <td>...</td>\n",
       "      <td>...</td>\n",
       "      <td>...</td>\n",
       "      <td>...</td>\n",
       "      <td>...</td>\n",
       "      <td>...</td>\n",
       "      <td>...</td>\n",
       "      <td>...</td>\n",
       "    </tr>\n",
       "    <tr>\n",
       "      <th>3673</th>\n",
       "      <td>Rinat Fakhretdinov</td>\n",
       "      <td>83.91</td>\n",
       "      <td>182.88</td>\n",
       "      <td>182.88</td>\n",
       "      <td>101.70</td>\n",
       "      <td>14</td>\n",
       "      <td>Не определена</td>\n",
       "      <td>1991-09-28</td>\n",
       "      <td>NaN</td>\n",
       "      <td>NaN</td>\n",
       "      <td>NaN</td>\n",
       "    </tr>\n",
       "    <tr>\n",
       "      <th>3674</th>\n",
       "      <td>Carlston Harris</td>\n",
       "      <td>77.11</td>\n",
       "      <td>182.88</td>\n",
       "      <td>182.88</td>\n",
       "      <td>101.70</td>\n",
       "      <td>14</td>\n",
       "      <td>Не определена</td>\n",
       "      <td>1987-07-09</td>\n",
       "      <td>NaN</td>\n",
       "      <td>NaN</td>\n",
       "      <td>NaN</td>\n",
       "    </tr>\n",
       "    <tr>\n",
       "      <th>3675</th>\n",
       "      <td>Askar Askar</td>\n",
       "      <td>65.77</td>\n",
       "      <td>170.18</td>\n",
       "      <td>170.18</td>\n",
       "      <td>101.70</td>\n",
       "      <td>14</td>\n",
       "      <td>Не определена</td>\n",
       "      <td>1994-08-19</td>\n",
       "      <td>NaN</td>\n",
       "      <td>NaN</td>\n",
       "      <td>NaN</td>\n",
       "    </tr>\n",
       "    <tr>\n",
       "      <th>3676</th>\n",
       "      <td>Patrick Sabatini</td>\n",
       "      <td>65.77</td>\n",
       "      <td>175.26</td>\n",
       "      <td>175.26</td>\n",
       "      <td>101.70</td>\n",
       "      <td>14</td>\n",
       "      <td>Не определена</td>\n",
       "      <td>1990-11-09</td>\n",
       "      <td>NaN</td>\n",
       "      <td>NaN</td>\n",
       "      <td>NaN</td>\n",
       "    </tr>\n",
       "    <tr>\n",
       "      <th>3677</th>\n",
       "      <td>Marcelo Rojo</td>\n",
       "      <td>61.24</td>\n",
       "      <td>172.72</td>\n",
       "      <td>172.72</td>\n",
       "      <td>101.70</td>\n",
       "      <td>14</td>\n",
       "      <td>Не определена</td>\n",
       "      <td>1988-07-02</td>\n",
       "      <td>NaN</td>\n",
       "      <td>NaN</td>\n",
       "      <td>NaN</td>\n",
       "    </tr>\n",
       "  </tbody>\n",
       "</table>\n",
       "<p>3315 rows × 11 columns</p>\n",
       "</div>"
      ],
      "text/plain": [
       "                     name  weight  height  armSpan  legSwing  \\\n",
       "id                                                             \n",
       "1            Tanner Boser  115.67  187.96   190.50    101.70   \n",
       "2           Giacomo Lemos  112.04  190.50   190.50    101.70   \n",
       "3     Shamil Abdurakhimov  106.59  190.50   193.04    105.41   \n",
       "4           Klidson Abreu   92.99  182.88   187.96    101.70   \n",
       "5       Yoshihiro Akiyama   77.11  177.80   190.50    106.68   \n",
       "...                   ...     ...     ...      ...       ...   \n",
       "3673   Rinat Fakhretdinov   83.91  182.88   182.88    101.70   \n",
       "3674      Carlston Harris   77.11  182.88   182.88    101.70   \n",
       "3675          Askar Askar   65.77  170.18   170.18    101.70   \n",
       "3676     Patrick Sabatini   65.77  175.26   175.26    101.70   \n",
       "3677         Marcelo Rojo   61.24  172.72   172.72    101.70   \n",
       "\n",
       "      weightCategory.id weightCategory.name dateOfBirth   country  \\\n",
       "id                                                                  \n",
       "1                     9         Тяжелый вес  1991-08-02    Canada   \n",
       "2                     9         Тяжелый вес  1989-06-23    Brazil   \n",
       "3                     9         Тяжелый вес  1981-09-02  Dagestan   \n",
       "4                     8     Полутяжелый вес  1992-12-24    Brazil   \n",
       "5                     6     Полусредний вес  1975-07-29     Japan   \n",
       "...                 ...                 ...         ...       ...   \n",
       "3673                 14       Не определена  1991-09-28       NaN   \n",
       "3674                 14       Не определена  1987-07-09       NaN   \n",
       "3675                 14       Не определена  1994-08-19       NaN   \n",
       "3676                 14       Не определена  1990-11-09       NaN   \n",
       "3677                 14       Не определена  1988-07-02       NaN   \n",
       "\n",
       "             city           timezone  \n",
       "id                                    \n",
       "1      Bonnyville   America/Edmonton  \n",
       "2             NaN  America/Sao_Paulo  \n",
       "3     Makhachkala      Europe/Moscow  \n",
       "4          Manaus     America/Manaus  \n",
       "5           Ikuno         Asia/Tokyo  \n",
       "...           ...                ...  \n",
       "3673          NaN                NaN  \n",
       "3674          NaN                NaN  \n",
       "3675          NaN                NaN  \n",
       "3676          NaN                NaN  \n",
       "3677          NaN                NaN  \n",
       "\n",
       "[3315 rows x 11 columns]"
      ]
     },
     "execution_count": 18,
     "metadata": {},
     "output_type": "execute_result"
    }
   ],
   "source": [
    "fighters_df = pd.read_csv(\"./data_models/fighters_df.csv\", index_col=0)\n",
    "fighters_df"
   ]
  },
  {
   "cell_type": "code",
   "execution_count": 33,
   "id": "hungarian-investigator",
   "metadata": {},
   "outputs": [
    {
     "data": {
      "text/plain": [
       "True"
      ]
     },
     "execution_count": 33,
     "metadata": {},
     "output_type": "execute_result"
    }
   ],
   "source": [
    "246 in fighters_df.index"
   ]
  },
  {
   "cell_type": "code",
   "execution_count": null,
   "id": "editorial-borough",
   "metadata": {},
   "outputs": [],
   "source": [
    "246,\n",
    "227"
   ]
  }
 ],
 "metadata": {
  "kernelspec": {
   "display_name": "Python 3",
   "language": "python",
   "name": "python3"
  },
  "language_info": {
   "codemirror_mode": {
    "name": "ipython",
    "version": 3
   },
   "file_extension": ".py",
   "mimetype": "text/x-python",
   "name": "python",
   "nbconvert_exporter": "python",
   "pygments_lexer": "ipython3",
   "version": "3.7.10"
  }
 },
 "nbformat": 4,
 "nbformat_minor": 5
}

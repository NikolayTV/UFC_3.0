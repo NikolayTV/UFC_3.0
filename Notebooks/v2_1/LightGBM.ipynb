{
 "cells": [
  {
   "cell_type": "code",
   "execution_count": 1,
   "id": "flexible-leonard",
   "metadata": {},
   "outputs": [],
   "source": [
    "%reload_ext autoreload\n",
    "%autoreload 2"
   ]
  },
  {
   "cell_type": "code",
   "execution_count": 50,
   "id": "built-tackle",
   "metadata": {},
   "outputs": [
    {
     "name": "stdout",
     "output_type": "stream",
     "text": [
      "1.2.4 0.22 1.20.2\n"
     ]
    }
   ],
   "source": [
    "from catboost import CatBoostClassifier\n",
    "import catboost \n",
    "\n",
    "import pandas as pd\n",
    "import json\n",
    "from pandas import json_normalize\n",
    "from tqdm import tqdm_notebook as tqdm\n",
    "import numpy as np\n",
    "import ast\n",
    "import json\n",
    "import re\n",
    "\n",
    "import sys\n",
    "import os\n",
    "sys.path.append(os.path.join(sys.path[0], '../../'))\n",
    "\n",
    "from core.train_utils import calculate_roi, get_winner_favorite, combine_df\n",
    "\n",
    "pd.set_option('display.precision',6)\n",
    "pd.set_option('display.max_columns', None)\n",
    "pd.options.mode.chained_assignment = None\n",
    "print(pd.__version__, catboost.__version__, np.__version__)"
   ]
  },
  {
   "cell_type": "code",
   "execution_count": 51,
   "id": "structural-madison",
   "metadata": {},
   "outputs": [],
   "source": [
    "with open('./data_models/generated_features_11.05.2021.txt', 'r') as outfile:\n",
    "    generated_features = json.load(outfile)\n",
    "fighter1_stats = generated_features['fighter1_stats']\n",
    "fighter2_stats = generated_features['fighter2_stats']\n",
    "difference_cols = generated_features['difference_cols']\n",
    "\n",
    "cat_cols = ['city', 'country', 'is_fight_night', 'weightCategory.id', \n",
    "              'f1_country', 'f2_country', 'f1_city', 'f2_city']\n",
    "\n",
    "#  fighter1_stats + fighter2_stats + \n",
    "train_cols = cat_cols + difference_cols + fighter1_stats + fighter2_stats  #+ ['f1_odds', 'f2_odds', 'odds_difference']# +  #['f1_odds', 'f2_odds', 'odds_difference'] +"
   ]
  },
  {
   "cell_type": "code",
   "execution_count": 55,
   "id": "organic-vegetable",
   "metadata": {
    "scrolled": false
   },
   "outputs": [
    {
     "name": "stdout",
     "output_type": "stream",
     "text": [
      "(11854, 343)\n",
      "(3565, 343) (338, 344)\n",
      "(3565, 343) (338, 344)\n",
      "(7130, 343) (676, 344)\n"
     ]
    },
    {
     "data": {
      "text/plain": [
       "(108, 344)"
      ]
     },
     "execution_count": 55,
     "metadata": {},
     "output_type": "execute_result"
    }
   ],
   "source": [
    "df = pd.read_csv('./data_models/events_joined_total_11.05.2021.csv', index_col=0)\n",
    "df = df.rename(columns = lambda x: x.strip())\n",
    "\n",
    "df['eventDate.date'] = pd.to_datetime(df['eventDate.date'])\n",
    "df['weightCategory.id'] = df['weightCategory.id'].astype('object')\n",
    "df['winner'] = df['winnerId'] == df['fighterId_1']\n",
    "print(df.shape)\n",
    "\n",
    "df[cat_cols] = df[cat_cols].fillna('unknown')\n",
    "df = df.fillna(-999)\n",
    "\n",
    "df = df[(df['f1_count_of_fights'] >= 1) & (df['f2_count_of_fights'] >= 1)]\n",
    "\n",
    "train1 = df[(df['eventDate.date'].dt.year > 2005) & (df['eventDate.date'].dt.year < 2020) &\n",
    "           ((df['type']=='straight'))]\n",
    "\n",
    "val1  = df[(df['eventDate.date'].dt.year == 2020) & (df['eventDate.date'].dt.year < 2021) &\n",
    "          ((df['type']=='straight'))]\n",
    "val1 = val1.reset_index()\n",
    "val1 = val1[~val1['odds_difference'].isna()]\n",
    "# 'f1_timezone', 'f2_timezone', 'timezone', 'f1_name', 'f2_name', \n",
    "\n",
    "\n",
    "train2 = df[(df['eventDate.date'].dt.year > 2005) & (df['eventDate.date'].dt.year < 2020) &\n",
    "           ((df['type']=='reversed'))]\n",
    "\n",
    "val2  = df[(df['eventDate.date'].dt.year == 2020) & (df['eventDate.date'].dt.year < 2021) &\n",
    "          ((df['type']=='reversed'))]\n",
    "val2 = val2.reset_index()\n",
    "val2 = val2[~val2['odds_difference'].isna()]\n",
    "\n",
    "train = train1.append(train2)\n",
    "val = val1.append(val2)\n",
    "\n",
    "print(train1.shape, val1.shape)\n",
    "print(train2.shape, val2.shape)\n",
    "print(train.shape, val.shape)\n",
    "\n",
    "test1  = df[(df['eventDate.date'].dt.year == 2021) & \n",
    "          ((df['type']=='straight'))]\n",
    "test1 = test1.reset_index()\n",
    "test1 = test1[~test1['odds_difference'].isna()]\n",
    "\n",
    "test2  = df[(df['eventDate.date'].dt.year == 2021) & \n",
    "          ((df['type']=='reversed'))]\n",
    "test2 = test2.reset_index()\n",
    "test2 = test2[~test2['odds_difference'].isna()]\n",
    "\n",
    "test1.shape"
   ]
  },
  {
   "cell_type": "code",
   "execution_count": 68,
   "id": "given-destruction",
   "metadata": {
    "scrolled": true
   },
   "outputs": [],
   "source": [
    "cat_features = train[train_cols].select_dtypes('object').columns.values.tolist()\n",
    "\n",
    "def create_cat_feature_dict(df, col):\n",
    "    thresh = df[col].value_counts().quantile(0.3) \n",
    "    temp_df = pd.DataFrame((df[col].value_counts() > 20)).reset_index()\n",
    "\n",
    "    dict_ = {}\n",
    "    for num, (raw_value, thresh_status) in enumerate(temp_df.values, start=1):\n",
    "        if thresh_status:\n",
    "            dict_[raw_value] = num\n",
    "    return dict_\n",
    "\n",
    "city_dict = {col: num for num, col in enumerate(train['city'].unique())}\n",
    "country_dict = {col: num for num, col in enumerate(train['country'].unique())}\n",
    "f1_country_dict = {col: num for num, col in enumerate(train['f1_country'].unique())}\n",
    "f2_country_dict = {col: num for num, col in enumerate(train['f2_country'].unique())}\n",
    "f1_city_dict = {col: num for num, col in enumerate(train['f1_city'].unique())}\n",
    "f2_city_dict = {col: num for num, col in enumerate(train['f2_city'].unique())}\n",
    "\n",
    "for cat_featuer in cat_features:\n",
    "    dict_ = create_cat_feature_dict(train, cat_featuer)\n",
    "    train[cat_featuer] = train[cat_featuer].map(city_dict).fillna(0).astype(int)\n",
    "    val[cat_featuer] = val[cat_featuer].map(city_dict).fillna(0).astype(int)\n",
    "\n",
    "    \n",
    "X_train = train[train_cols]#.drop(['f1_odds', 'f2_odds', 'odds_difference'], axis=1)\n",
    "y_train = train['winner'].astype(int)\n",
    "\n",
    "X_val = val[train_cols]#.drop(['f1_odds', 'f2_odds', 'odds_difference'], axis=1)\n",
    "y_val = val['winner'].astype(int)\n",
    "X_train[cat_features] = X_train[cat_features].astype('category')"
   ]
  },
  {
   "cell_type": "markdown",
   "id": "f1fbed23",
   "metadata": {},
   "source": [
    "# Feature selection"
   ]
  },
  {
   "cell_type": "code",
   "execution_count": 69,
   "id": "87f7a3d5",
   "metadata": {},
   "outputs": [
    {
     "data": {
      "text/plain": [
       "((7130,), (7130, 323))"
      ]
     },
     "execution_count": 69,
     "metadata": {},
     "output_type": "execute_result"
    }
   ],
   "source": [
    "y_train.shape, X_train.shape"
   ]
  },
  {
   "cell_type": "code",
   "execution_count": 70,
   "id": "b817a19a",
   "metadata": {},
   "outputs": [
    {
     "data": {
      "text/plain": [
       "((676,), (676, 323))"
      ]
     },
     "execution_count": 70,
     "metadata": {},
     "output_type": "execute_result"
    }
   ],
   "source": [
    "y_val.shape, X_val.shape"
   ]
  },
  {
   "cell_type": "code",
   "execution_count": 73,
   "id": "bb1150a9",
   "metadata": {
    "scrolled": true
   },
   "outputs": [
    {
     "data": {
      "text/plain": [
       "LGBMClassifier(n_estimators=1000, random_state=0)"
      ]
     },
     "execution_count": 73,
     "metadata": {},
     "output_type": "execute_result"
    }
   ],
   "source": [
    "from shaphypetune import BoostSearch, BoostBoruta, BoostRFE\n",
    "from lightgbm import LGBMClassifier\n",
    "\n",
    "import re\n",
    "\n",
    "X_train = X_train.rename(columns = lambda x:re.sub('[^A-Za-z0-9_]+', '', x))\n",
    "X_val = X_val.rename(columns = lambda x:re.sub('[^A-Za-z0-9_]+', '', x))\n",
    "    \n",
    "clf_lgbm = LGBMClassifier(n_estimators=1000, random_state=0, n_jobs=-1)#, categorical_feature=[f'name:{i}' for i in cat_features])\n",
    "clf_lgbm.fit(X_train, y_train.values, eval_set=[(X_val, y_val.values)], early_stopping_rounds=6, verbose=0)\n",
    "\n"
   ]
  },
  {
   "cell_type": "code",
   "execution_count": 76,
   "id": "4c1d74d8",
   "metadata": {},
   "outputs": [
    {
     "data": {
      "text/plain": [
       "0.6678821879382889"
      ]
     },
     "execution_count": 76,
     "metadata": {},
     "output_type": "execute_result"
    }
   ],
   "source": [
    "clf_lgbm.score(X_train, y_train)"
   ]
  },
  {
   "cell_type": "code",
   "execution_count": 77,
   "id": "abce719a",
   "metadata": {},
   "outputs": [
    {
     "data": {
      "text/plain": [
       "0.5088757396449705"
      ]
     },
     "execution_count": 77,
     "metadata": {},
     "output_type": "execute_result"
    }
   ],
   "source": [
    "clf_lgbm.score(X_val, y_val)"
   ]
  },
  {
   "cell_type": "code",
   "execution_count": null,
   "id": "32821be6",
   "metadata": {},
   "outputs": [],
   "source": [
    "model = BoostBoruta(clf_lgbm, max_iter=200, perc=100)\n",
    "model.fit(X_train, y_train.values, eval_set=[(X_val, y_val.values)], early_stopping_rounds=6, verbose=0)\n"
   ]
  },
  {
   "cell_type": "code",
   "execution_count": 23,
   "id": "8e04def6",
   "metadata": {},
   "outputs": [
    {
     "data": {
      "text/plain": [
       "(7130, 7130)"
      ]
     },
     "execution_count": 23,
     "metadata": {},
     "output_type": "execute_result"
    }
   ],
   "source": [
    "len(y_train), len(X_train)"
   ]
  },
  {
   "cell_type": "code",
   "execution_count": 20,
   "id": "29c9ef64",
   "metadata": {},
   "outputs": [
    {
     "data": {
      "text/plain": [
       "array([0, 0, 1, ..., 0, 1, 0])"
      ]
     },
     "execution_count": 20,
     "metadata": {},
     "output_type": "execute_result"
    }
   ],
   "source": [
    "y_train.values"
   ]
  }
 ],
 "metadata": {
  "kernelspec": {
   "display_name": "Python 3",
   "language": "python",
   "name": "python3"
  },
  "language_info": {
   "codemirror_mode": {
    "name": "ipython",
    "version": 3
   },
   "file_extension": ".py",
   "mimetype": "text/x-python",
   "name": "python",
   "nbconvert_exporter": "python",
   "pygments_lexer": "ipython3",
   "version": "3.7.10"
  }
 },
 "nbformat": 4,
 "nbformat_minor": 5
}

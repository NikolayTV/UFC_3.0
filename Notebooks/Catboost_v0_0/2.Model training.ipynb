{
 "cells": [
  {
   "cell_type": "code",
   "execution_count": 2,
   "id": "flexible-leonard",
   "metadata": {},
   "outputs": [],
   "source": [
    "%reload_ext autoreload\n",
    "%autoreload 2"
   ]
  },
  {
   "cell_type": "code",
   "execution_count": 3,
   "id": "built-tackle",
   "metadata": {},
   "outputs": [],
   "source": [
    "from catboost import CatBoostClassifier\n",
    "import pandas as pd\n",
    "import json\n",
    "from pandas import json_normalize\n",
    "from tqdm import tqdm_notebook as tqdm\n",
    "import numpy as np\n",
    "import ast\n",
    "\n",
    "import sys\n",
    "import os\n",
    "sys.path.append(os.path.join(sys.path[0], '../../'))\n",
    "\n",
    "from core.train_utils import calculate_roi, get_winner_favorite, combine_df"
   ]
  },
  {
   "cell_type": "code",
   "execution_count": 4,
   "id": "charged-remedy",
   "metadata": {},
   "outputs": [
    {
     "ename": "FileNotFoundError",
     "evalue": "[Errno 2] No such file or directory: '../../data/Catboost_v0/df_combined_total.pkl'",
     "output_type": "error",
     "traceback": [
      "\u001b[0;31m---------------------------------------------------------------------------\u001b[0m",
      "\u001b[0;31mFileNotFoundError\u001b[0m                         Traceback (most recent call last)",
      "\u001b[0;32m<ipython-input-4-760b1100f7db>\u001b[0m in \u001b[0;36m<module>\u001b[0;34m\u001b[0m\n\u001b[0;32m----> 1\u001b[0;31m \u001b[0mdf\u001b[0m \u001b[0;34m=\u001b[0m \u001b[0mpd\u001b[0m\u001b[0;34m.\u001b[0m\u001b[0mread_pickle\u001b[0m\u001b[0;34m(\u001b[0m\u001b[0;34m'../../data/Catboost_v0/df_combined_total.pkl'\u001b[0m\u001b[0;34m)\u001b[0m\u001b[0;34m\u001b[0m\u001b[0;34m\u001b[0m\u001b[0m\n\u001b[0m\u001b[1;32m      2\u001b[0m \u001b[0mdf\u001b[0m\u001b[0;34m[\u001b[0m\u001b[0;34m'winner'\u001b[0m\u001b[0;34m]\u001b[0m \u001b[0;34m=\u001b[0m \u001b[0mdf\u001b[0m\u001b[0;34m[\u001b[0m\u001b[0;34m'winnerId'\u001b[0m\u001b[0;34m]\u001b[0m \u001b[0;34m==\u001b[0m \u001b[0mdf\u001b[0m\u001b[0;34m[\u001b[0m\u001b[0;34m'fighterId_1'\u001b[0m\u001b[0;34m]\u001b[0m\u001b[0;34m\u001b[0m\u001b[0;34m\u001b[0m\u001b[0m\n\u001b[1;32m      3\u001b[0m \u001b[0mprint\u001b[0m\u001b[0;34m(\u001b[0m\u001b[0mdf\u001b[0m\u001b[0;34m.\u001b[0m\u001b[0mshape\u001b[0m\u001b[0;34m)\u001b[0m\u001b[0;34m\u001b[0m\u001b[0;34m\u001b[0m\u001b[0m\n\u001b[1;32m      4\u001b[0m \u001b[0;34m\u001b[0m\u001b[0m\n\u001b[1;32m      5\u001b[0m \u001b[0mdf\u001b[0m \u001b[0;34m=\u001b[0m \u001b[0mdf\u001b[0m\u001b[0;34m[\u001b[0m\u001b[0;34m(\u001b[0m\u001b[0mdf\u001b[0m\u001b[0;34m[\u001b[0m\u001b[0;34m'f1_count_of_fights'\u001b[0m\u001b[0;34m]\u001b[0m \u001b[0;34m>=\u001b[0m \u001b[0;36m2\u001b[0m\u001b[0;34m)\u001b[0m \u001b[0;34m&\u001b[0m \u001b[0;34m(\u001b[0m\u001b[0mdf\u001b[0m\u001b[0;34m[\u001b[0m\u001b[0;34m'f2_count_of_fights'\u001b[0m\u001b[0;34m]\u001b[0m \u001b[0;34m>=\u001b[0m \u001b[0;36m2\u001b[0m\u001b[0;34m)\u001b[0m\u001b[0;34m]\u001b[0m\u001b[0;34m\u001b[0m\u001b[0;34m\u001b[0m\u001b[0m\n",
      "\u001b[0;32m~/anaconda3/lib/python3.8/site-packages/pandas/io/pickle.py\u001b[0m in \u001b[0;36mread_pickle\u001b[0;34m(filepath_or_buffer, compression, storage_options)\u001b[0m\n\u001b[1;32m    183\u001b[0m     \"\"\"\n\u001b[1;32m    184\u001b[0m     \u001b[0mexcs_to_catch\u001b[0m \u001b[0;34m=\u001b[0m \u001b[0;34m(\u001b[0m\u001b[0mAttributeError\u001b[0m\u001b[0;34m,\u001b[0m \u001b[0mImportError\u001b[0m\u001b[0;34m,\u001b[0m \u001b[0mModuleNotFoundError\u001b[0m\u001b[0;34m,\u001b[0m \u001b[0mTypeError\u001b[0m\u001b[0;34m)\u001b[0m\u001b[0;34m\u001b[0m\u001b[0;34m\u001b[0m\u001b[0m\n\u001b[0;32m--> 185\u001b[0;31m     with get_handle(\n\u001b[0m\u001b[1;32m    186\u001b[0m         \u001b[0mfilepath_or_buffer\u001b[0m\u001b[0;34m,\u001b[0m\u001b[0;34m\u001b[0m\u001b[0;34m\u001b[0m\u001b[0m\n\u001b[1;32m    187\u001b[0m         \u001b[0;34m\"rb\"\u001b[0m\u001b[0;34m,\u001b[0m\u001b[0;34m\u001b[0m\u001b[0;34m\u001b[0m\u001b[0m\n",
      "\u001b[0;32m~/anaconda3/lib/python3.8/site-packages/pandas/io/common.py\u001b[0m in \u001b[0;36mget_handle\u001b[0;34m(path_or_buf, mode, encoding, compression, memory_map, is_text, errors, storage_options)\u001b[0m\n\u001b[1;32m    649\u001b[0m         \u001b[0;32melse\u001b[0m\u001b[0;34m:\u001b[0m\u001b[0;34m\u001b[0m\u001b[0;34m\u001b[0m\u001b[0m\n\u001b[1;32m    650\u001b[0m             \u001b[0;31m# Binary mode\u001b[0m\u001b[0;34m\u001b[0m\u001b[0;34m\u001b[0m\u001b[0;34m\u001b[0m\u001b[0m\n\u001b[0;32m--> 651\u001b[0;31m             \u001b[0mhandle\u001b[0m \u001b[0;34m=\u001b[0m \u001b[0mopen\u001b[0m\u001b[0;34m(\u001b[0m\u001b[0mhandle\u001b[0m\u001b[0;34m,\u001b[0m \u001b[0mioargs\u001b[0m\u001b[0;34m.\u001b[0m\u001b[0mmode\u001b[0m\u001b[0;34m)\u001b[0m\u001b[0;34m\u001b[0m\u001b[0;34m\u001b[0m\u001b[0m\n\u001b[0m\u001b[1;32m    652\u001b[0m         \u001b[0mhandles\u001b[0m\u001b[0;34m.\u001b[0m\u001b[0mappend\u001b[0m\u001b[0;34m(\u001b[0m\u001b[0mhandle\u001b[0m\u001b[0;34m)\u001b[0m\u001b[0;34m\u001b[0m\u001b[0;34m\u001b[0m\u001b[0m\n\u001b[1;32m    653\u001b[0m \u001b[0;34m\u001b[0m\u001b[0m\n",
      "\u001b[0;31mFileNotFoundError\u001b[0m: [Errno 2] No such file or directory: '../../data/Catboost_v0/df_combined_total.pkl'"
     ]
    }
   ],
   "source": [
    "df = pd.read_pickle('../../data/Catboost_v0/df_combined_total.pkl')\n",
    "df['winner'] = df['winnerId'] == df['fighterId_1']\n",
    "print(df.shape)\n",
    "\n",
    "df = df[(df['f1_count_of_fights'] >= 2) & (df['f2_count_of_fights'] >= 2)]\n",
    "\n",
    "train = df[(df['eventDate.date'].dt.year > 2005) & (df['eventDate.date'].dt.year < 2020)]\n",
    "\n",
    "val  = df[df['eventDate.date'].dt.year >= 2020]\n",
    "val = val[~val['odds_difference'].isna()]\n",
    "val = val.reset_index()\n",
    "\n",
    "df.shape, train.shape, val.shape"
   ]
  },
  {
   "cell_type": "code",
   "execution_count": null,
   "id": "difficult-winner",
   "metadata": {},
   "outputs": [],
   "source": [
    "train_cols = ['cumsumwinner_difference', 'cumsum_hitsTotal_difference', 'cumsum_hitsSuccessful_difference', \n",
    "              'cumsum_takedownTotal_difference', 'cumsum_takedownSuccessful_difference', \n",
    "              'cumsum_submissionAttempts_difference', 'cumsum_takeovers_difference', \n",
    "              'cumsum_accentedHitsTotal_difference', 'cumsum_accentedHitsSuccessful_difference', \n",
    "              'cumsum_knockdowns_difference', 'cumsum_protectionPassage_difference', \n",
    "              'cumsum_hitsHeadTotal_difference', 'cumsum_hitsHeadSuccessful_difference', \n",
    "              'cumsum_hitsBodyTotal_difference', 'cumsum_hitsBodySuccessful_difference', \n",
    "              'cumsum_hitsLegsTotal_difference', 'cumsum_hitsLegsSuccessful_difference', \n",
    "              'cumsum_accentedHitsPositionDistanceTotal_difference', \n",
    "              'cumsum_accentedHitsPositionDistanceSuccessful_difference', \n",
    "              'cumsum_accentedHitsPositionClinchTotal_difference', \n",
    "              'cumsum_accentedHitsPositionClinchSuccessful_difference', \n",
    "              'cumsum_accentedHitsPositionParterTotal_difference', \n",
    "              'cumsum_accentedHitsPositionParterSuccessful_difference', \n",
    "              'cumsumwinMethods_[DEC]_difference', 'cumsumwinMethods_[DQ]_difference', \n",
    "              'cumsumwinMethods_[KO]_difference', 'cumsumwinMethods_[SUB]_difference', \n",
    "              'count_of_fights_difference', 'age_difference'] #,  , 'odds_difference'"
   ]
  },
  {
   "cell_type": "code",
   "execution_count": null,
   "id": "given-destruction",
   "metadata": {
    "scrolled": false
   },
   "outputs": [],
   "source": [
    "X_train = train[train_cols]\n",
    "y_train = train['winner'].astype(int)\n",
    "\n",
    "X_val = val[train_cols]\n",
    "y_val = val['winner'].astype(int)\n",
    "\n",
    "print(train.shape, val.shape)\n",
    "clf = CatBoostClassifier(iterations=4000, \n",
    "                           depth=3,\n",
    "                           learning_rate=0.01,\n",
    "                           loss_function='Logloss',\n",
    "                           colsample_bylevel=1,\n",
    "                           subsample=0.1,\n",
    "                           random_strength=1,\n",
    "#                            l2_leaf_reg=30,\n",
    "#                            reg_lambda=40,\n",
    "                           eval_metric='Accuracy',\n",
    "                           boosting_type='Plain', # 'Plain'\n",
    "                           bootstrap_type='Bernoulli',# 'Bernoulli' Bayesian\n",
    "                           max_ctr_complexity=5,\n",
    "                           task_type='GPU',\n",
    "                          )\n",
    "\n",
    "clf.fit(X_train, y_train, plot=True, eval_set=(X_val, y_val), verbose=False)"
   ]
  },
  {
   "cell_type": "code",
   "execution_count": null,
   "id": "commercial-fiction",
   "metadata": {
    "scrolled": true
   },
   "outputs": [],
   "source": [
    "clf.get_feature_importance(prettified=True)#['Feature Id'].values"
   ]
  },
  {
   "cell_type": "code",
   "execution_count": null,
   "id": "corporate-radar",
   "metadata": {},
   "outputs": [],
   "source": [
    "clf.save_model('../../models/Catboost_v0/catboost_v0_0_05.04.2021.cat')"
   ]
  },
  {
   "cell_type": "code",
   "execution_count": null,
   "id": "incorporated-plant",
   "metadata": {
    "scrolled": true
   },
   "outputs": [],
   "source": [
    "y_pred = clf.predict_proba(val[clf.feature_names_])\n",
    "val['y_proba'] = y_pred[:,1]\n",
    "val"
   ]
  },
  {
   "cell_type": "code",
   "execution_count": null,
   "id": "selective-stopping",
   "metadata": {
    "scrolled": false
   },
   "outputs": [],
   "source": [
    "reversed_index = val[val['type'] == 'reversed'].index\n",
    "y_proba_reversed = val[val['type'] == 'reversed']['y_proba'].apply(lambda x: 1-x)\n",
    "y_proba_reversed "
   ]
  },
  {
   "cell_type": "code",
   "execution_count": null,
   "id": "announced-importance",
   "metadata": {},
   "outputs": [],
   "source": [
    "val = val[val['type'] == 'straight']\n",
    "val['y_proba_reversed'] = y_proba_reversed\n",
    "val['y_proba_mean'] = (np.array(y_proba_reversed) + np.array(val['y_proba'])) / 2\n",
    "val['y_proba_mean']\n",
    "val['y_pred'] = val['y_proba'] > 0.5"
   ]
  },
  {
   "cell_type": "code",
   "execution_count": null,
   "id": "expressed-circumstances",
   "metadata": {
    "scrolled": true
   },
   "outputs": [],
   "source": [
    "print('Точность букмейкера')\n",
    "val['bookmaker_bet'] = (val['f1_odds'] < val['f2_odds']).astype(int)\n",
    "(val['bookmaker_bet'] == val['winner']).mean()"
   ]
  },
  {
   "cell_type": "code",
   "execution_count": 5,
   "id": "transparent-avatar",
   "metadata": {
    "scrolled": true
   },
   "outputs": [
    {
     "ename": "NameError",
     "evalue": "name 'val' is not defined",
     "output_type": "error",
     "traceback": [
      "\u001b[0;31m---------------------------------------------------------------------------\u001b[0m",
      "\u001b[0;31mNameError\u001b[0m                                 Traceback (most recent call last)",
      "\u001b[0;32m<ipython-input-5-32ed7d0f40f2>\u001b[0m in \u001b[0;36m<module>\u001b[0;34m\u001b[0m\n\u001b[0;32m----> 1\u001b[0;31m \u001b[0mcalculate_roi\u001b[0m\u001b[0;34m(\u001b[0m\u001b[0mval\u001b[0m\u001b[0;34m)\u001b[0m\u001b[0;34m\u001b[0m\u001b[0;34m\u001b[0m\u001b[0m\n\u001b[0m",
      "\u001b[0;31mNameError\u001b[0m: name 'val' is not defined"
     ]
    }
   ],
   "source": [
    "calculate_roi(val)"
   ]
  },
  {
   "cell_type": "code",
   "execution_count": null,
   "id": "lonely-consumption",
   "metadata": {},
   "outputs": [],
   "source": [
    "val = get_winner_favorite(val)\n",
    "bet_on_favorite = val[val['y_pred'] == val['favorite']]\n",
    "calculate_roi(bet_on_favorite)"
   ]
  },
  {
   "cell_type": "code",
   "execution_count": null,
   "id": "minus-brand",
   "metadata": {},
   "outputs": [],
   "source": [
    "bet_on_underdog = val[val['y_pred'] != val['favorite']]\n",
    "print(bet_on_underdog.shape)\n",
    "calculate_roi(bet_on_underdog)"
   ]
  },
  {
   "cell_type": "code",
   "execution_count": null,
   "id": "quick-chapter",
   "metadata": {
    "scrolled": true
   },
   "outputs": [],
   "source": [
    "val.columns"
   ]
  },
  {
   "cell_type": "code",
   "execution_count": 6,
   "id": "legendary-syndrome",
   "metadata": {},
   "outputs": [],
   "source": [
    "calculate_roi??"
   ]
  },
  {
   "cell_type": "code",
   "execution_count": 7,
   "id": "express-piano",
   "metadata": {},
   "outputs": [
    {
     "ename": "NameError",
     "evalue": "name 'val' is not defined",
     "output_type": "error",
     "traceback": [
      "\u001b[0;31m---------------------------------------------------------------------------\u001b[0m",
      "\u001b[0;31mNameError\u001b[0m                                 Traceback (most recent call last)",
      "\u001b[0;32m<ipython-input-7-4906d7c4f148>\u001b[0m in \u001b[0;36m<module>\u001b[0;34m\u001b[0m\n\u001b[0;32m----> 1\u001b[0;31m \u001b[0mval\u001b[0m\u001b[0;34m[\u001b[0m\u001b[0;34m'cumsum_hitsHeadTotal_difference'\u001b[0m\u001b[0;34m]\u001b[0m\u001b[0;34m.\u001b[0m\u001b[0mhist\u001b[0m\u001b[0;34m(\u001b[0m\u001b[0;34m)\u001b[0m\u001b[0;34m\u001b[0m\u001b[0;34m\u001b[0m\u001b[0m\n\u001b[0m",
      "\u001b[0;31mNameError\u001b[0m: name 'val' is not defined"
     ]
    }
   ],
   "source": [
    "val['cumsum_hitsHeadTotal_difference'].hist()"
   ]
  },
  {
   "cell_type": "code",
   "execution_count": null,
   "id": "sound-delay",
   "metadata": {
    "scrolled": true
   },
   "outputs": [],
   "source": []
  },
  {
   "cell_type": "code",
   "execution_count": null,
   "id": "final-retention",
   "metadata": {},
   "outputs": [],
   "source": [
    "df['c']"
   ]
  },
  {
   "cell_type": "code",
   "execution_count": null,
   "id": "available-virginia",
   "metadata": {},
   "outputs": [],
   "source": []
  },
  {
   "cell_type": "code",
   "execution_count": null,
   "id": "adolescent-indication",
   "metadata": {},
   "outputs": [],
   "source": []
  },
  {
   "cell_type": "code",
   "execution_count": null,
   "id": "crazy-particle",
   "metadata": {},
   "outputs": [],
   "source": []
  }
 ],
 "metadata": {
  "kernelspec": {
   "display_name": "Python 3",
   "language": "python",
   "name": "python3"
  },
  "language_info": {
   "codemirror_mode": {
    "name": "ipython",
    "version": 3
   },
   "file_extension": ".py",
   "mimetype": "text/x-python",
   "name": "python",
   "nbconvert_exporter": "python",
   "pygments_lexer": "ipython3",
   "version": "3.8.5"
  }
 },
 "nbformat": 4,
 "nbformat_minor": 5
}
